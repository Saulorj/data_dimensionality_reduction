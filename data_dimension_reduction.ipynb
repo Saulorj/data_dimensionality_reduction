{
 "cells": [
  {
   "cell_type": "markdown",
   "metadata": {},
   "source": [
    "# Data Dimensionality Reduction\n",
    "Comparar os 4 métodos de redução de dimensões (PCA, SVD, NMF e Autoencoder) em relação ao modelo sem nenhum tipo de redução.  \n",
    "Para tornar o exercício mais interessante, será avaliado não só os 4 algoritmos de redução de dimensão, mas também vários modelos de classificação.  \n",
    "O objetivo final é termos a melhor opção entre o modelo de classificação e de redução (se for o caso).  \n",
    "\n",
    "### Base de dados - SK-Learn Breast Cancer\n",
    "\n",
    "Para o exercício será utilizado o dataset do sklearn **breast cancer** (UCI ML Breast Cancer) no que contém informações sobre câncer de mama e a classificação se é benigno ou maligno.  \n",
    "Maiores detalhes sobre o dataset disponível em  \n",
    "https://scikit-learn.org/stable/modules/generated/sklearn.datasets.load_breast_cancer.html#sklearn.datasets.load_breast_cancer\n",
    "\n",
    "\n",
    "***Fonte original do dataset***  \n",
    "The copy of UCI ML Breast Cancer Wisconsin (Diagnostic) dataset is downloaded from:  \n",
    "https://goo.gl/U2Uwz2\n"
   ]
  },
  {
   "cell_type": "markdown",
   "metadata": {},
   "source": [
    "## Importando o Dataset\n",
    "O conjunto de dados utilizado contém possui em seu target uma classificação binária do câncer em 'malignant', 'benign' (maligno ou benigno).  \n",
    "O objetivo, é criar um classificador que ao avaliar suas 30 features possa determinar o tipo do cancer.\n"
   ]
  },
  {
   "cell_type": "code",
   "execution_count": 25,
   "metadata": {},
   "outputs": [],
   "source": [
    "#importando o conjunto de dados\n",
    "from sklearn.datasets import load_breast_cancer\n",
    "data = load_breast_cancer()"
   ]
  },
  {
   "cell_type": "markdown",
   "metadata": {},
   "source": [
    "### Exibindo as Features e targets"
   ]
  },
  {
   "cell_type": "code",
   "execution_count": 26,
   "metadata": {},
   "outputs": [
    {
     "name": "stdout",
     "output_type": "stream",
     "text": [
      "Target: ['malignant' 'benign'] \n",
      "\n",
      "Features: ['mean radius' 'mean texture' 'mean perimeter' 'mean area'\n",
      " 'mean smoothness' 'mean compactness' 'mean concavity'\n",
      " 'mean concave points' 'mean symmetry' 'mean fractal dimension'\n",
      " 'radius error' 'texture error' 'perimeter error' 'area error'\n",
      " 'smoothness error' 'compactness error' 'concavity error'\n",
      " 'concave points error' 'symmetry error' 'fractal dimension error'\n",
      " 'worst radius' 'worst texture' 'worst perimeter' 'worst area'\n",
      " 'worst smoothness' 'worst compactness' 'worst concavity'\n",
      " 'worst concave points' 'worst symmetry' 'worst fractal dimension']\n"
     ]
    }
   ],
   "source": [
    "\n",
    "print('Target:', data.target_names, '\\n')\n",
    "print('Features:',data.feature_names)"
   ]
  },
  {
   "cell_type": "markdown",
   "metadata": {},
   "source": [
    "### Importando as demais bibliotecas utilizadas"
   ]
  },
  {
   "cell_type": "code",
   "execution_count": 27,
   "metadata": {},
   "outputs": [],
   "source": [
    "import numpy as np\n",
    "import pandas as pd\n",
    "import matplotlib.pyplot as plt\n",
    "from sklearn.model_selection import train_test_split\n",
    "from sklearn import model_selection \n",
    "plt.style.use('ggplot')"
   ]
  },
  {
   "cell_type": "markdown",
   "metadata": {},
   "source": [
    "### Separando os dados em treino e teste\n",
    "\n",
    "Para o exemplo utilizaremos uma base de tete de 30% do conjunto de dados."
   ]
  },
  {
   "cell_type": "code",
   "execution_count": 44,
   "metadata": {},
   "outputs": [],
   "source": [
    "random_state = 42\n",
    "#Carregndo novamente já seprando os dados\n",
    "X, y = load_breast_cancer(return_X_y=True)\n",
    "#separando em treino e teste com 40% para o teste\n",
    "X_train, X_test, y_train, y_test = train_test_split(X, y, test_size=0.3, random_state=random_state)"
   ]
  },
  {
   "cell_type": "markdown",
   "metadata": {},
   "source": [
    "### Definindo os modelos que serão utilizados \n",
    "\n",
    "Em princípio faremos testes com 5 tipos declassificadores"
   ]
  },
  {
   "cell_type": "code",
   "execution_count": 29,
   "metadata": {},
   "outputs": [
    {
     "name": "stdout",
     "output_type": "stream",
     "text": [
      "Resultado da avaiação\n",
      "  KNN: media 0.904652 (dp 0.021385 - max 0.936709)\n",
      "  DTC: media 0.922247 (dp 0.028700 - max 0.949367)\n",
      "  GB: media 0.942310 (dp 0.018549 - max 0.974684)\n",
      "  SVM: media 0.897057 (dp 0.025270 - max 0.924051)\n",
      "  RF: media 0.954873 (dp 0.020186 - max 0.974684)\n",
      "\n",
      "Melhor modelo: RandomForestClassifier()\n"
     ]
    }
   ],
   "source": [
    "from sklearn.tree import DecisionTreeClassifier\n",
    "from sklearn.neighbors import KNeighborsClassifier\n",
    "from sklearn.naive_bayes import GaussianNB\n",
    "from sklearn.ensemble import RandomForestClassifier\n",
    "from sklearn.svm import SVC\n",
    "\n",
    "#import warnings\n",
    "#from sklearn.exceptions import ConvergenceWarning\n",
    "#warnings.filterwarnings(\"ignore\",  category = ConvergenceWarning)\n",
    "\n",
    "def rodar_modelo(models):\n",
    "    '''Executa os modelos definidos (parametros default) e retorna o modelo com melhor performance'''\n",
    "    results = []\n",
    "    names = []\n",
    "    scoring = 'accuracy'\n",
    "    print('Resultado da avaiação')\n",
    "    for name, model in models:\n",
    "        kfold = model_selection.KFold(n_splits=5, random_state=random_state, shuffle=True)\n",
    "        cv_results = model_selection.cross_val_score(model, X_train, y_train, cv=kfold, scoring=scoring)\n",
    "        results.append(cv_results.mean())\n",
    "        names.append(name)\n",
    "        msg = \"  %s: media %f (dp %f - max %f)\" % (name, cv_results.mean(), cv_results.std(), cv_results.max())\n",
    "        print(msg)\n",
    "    pos_melhor_modelo = results.index(max(results))\n",
    "    return models[pos_melhor_modelo]\n",
    "\n",
    "\n",
    "models = []\n",
    "models.append(('KNN', KNeighborsClassifier()))\n",
    "models.append(('DTC', DecisionTreeClassifier()))\n",
    "models.append(('GB', GaussianNB()))\n",
    "models.append(('SVM', SVC()))\n",
    "models.append(('RF', RandomForestClassifier()))\n",
    "\n",
    "melhor_modelo = rodar_modelo(models)\n",
    "print('')\n",
    "print('Melhor modelo:', melhor_modelo[1])"
   ]
  },
  {
   "cell_type": "markdown",
   "metadata": {},
   "source": [
    "### Aprimorando o modelo selecionado 'Random Forest Classifier'\n",
    "\n",
    "Utilizar o GridSearch para testar um conjunto de hipoteses de parametros. O objetivo é descobrir a melhor combinação entre eles e maximizar o resultado da classificação."
   ]
  },
  {
   "cell_type": "code",
   "execution_count": 30,
   "metadata": {},
   "outputs": [],
   "source": [
    "from sklearn.model_selection import GridSearchCV\n",
    "from sklearn.metrics import classification_report\n",
    "from sklearn.metrics import plot_confusion_matrix\n",
    "\n",
    "gsc = GridSearchCV(\n",
    "        estimator=RandomForestClassifier(),\n",
    "        param_grid={\n",
    "            'random_state': [None, 0, 1, 2, 3, 42],\n",
    "            'max_depth': [None, 1, 2, 3, 4, 15, 20],\n",
    "            'n_estimators': [5, 10, 100, 150, 200], \n",
    "            'max_features': ['auto', 'sqrt', 'log2', 1, 2, 3],\n",
    "            'criterion': ['gini', 'entropy'],\n",
    "            'min_samples_split': [2, 4, 6],\n",
    "            'min_samples_leaf': [1, 3, 4, 5]\n",
    "        },\n",
    "        cv=5, scoring='accuracy', verbose=0, n_jobs=-1)\n",
    "\n",
    "grid_result = gsc.fit(X_train, y_train)\n",
    "best_params = grid_result.best_params_"
   ]
  },
  {
   "cell_type": "code",
   "execution_count": 42,
   "metadata": {},
   "outputs": [
    {
     "name": "stdout",
     "output_type": "stream",
     "text": [
      "RandomForestClassifier GIRD\n",
      "  criterion :  entropy\n",
      "  max_depth :  15\n",
      "  max_features :  1\n",
      "  min_samples_leaf :  1\n",
      "  min_samples_split :  2\n",
      "  n_estimators :  10\n",
      "  random_state :  None\n",
      "\n",
      "              precision    recall  f1-score   support\n",
      "\n",
      "     Maligno       0.89      0.99      0.93        80\n",
      "     Benigno       0.99      0.93      0.96       148\n",
      "\n",
      "    accuracy                           0.95       228\n",
      "   macro avg       0.94      0.96      0.95       228\n",
      "weighted avg       0.96      0.95      0.95       228\n",
      "\n"
     ]
    },
    {
     "data": {
      "image/png": "[encoded data removed]",
      "text/plain": [
       "<Figure size 432x288 with 2 Axes>"
      ]
     },
     "metadata": {},
     "output_type": "display_data"
    }
   ],
   "source": [
    "classifier = RandomForestClassifier(max_depth=best_params[\"max_depth\"], \n",
    "                                    random_state=best_params[\"random_state\"],\n",
    "                                    n_estimators = best_params[\"n_estimators\"], \n",
    "                                    max_features = best_params[\"max_features\"],\n",
    "                                    criterion=best_params[\"criterion\"], \n",
    "                                    min_samples_split=best_params[\"min_samples_split\"], \n",
    "                                    min_samples_leaf = best_params[\"min_samples_leaf\"])\n",
    "\n",
    "results = []\n",
    "model = classifier.fit(X_train, y_train)\n",
    "y_pred = model.predict(X_test) # avaliando o melhor estimador\n",
    "\n",
    "print(\"RandomForestClassifier GIRD\")\n",
    "for k, v in best_params.items():\n",
    "    print(' ', k, ': ',  v,)\n",
    "print(\"\")\n",
    "print(classification_report(y_test, y_pred, target_names=['Maligno', 'Benigno']))\n",
    "report = classification_report(y_test, y_pred, target_names=['Maligno', 'Benigno'], output_dict=True)\n",
    "results.append(('Modelo', report))\n",
    "plot_confusion_matrix(classifier, X_test, y_test, cmap=\"Blues\", display_labels=['Maligno', 'Benigno'])\n",
    "plt.show()"
   ]
  },
  {
   "cell_type": "markdown",
   "metadata": {},
   "source": [
    "### Avaliando as features do modelo quanto a sua importancia"
   ]
  },
  {
   "cell_type": "code",
   "execution_count": 33,
   "metadata": {},
   "outputs": [
    {
     "name": "stdout",
     "output_type": "stream",
     "text": [
      "mean radius: 0.02827\n",
      "mean texture: 0.02015\n",
      "mean perimeter: 0.03507\n",
      "mean area: 0.03246\n",
      "mean smoothness: 0.00860\n",
      "mean compactness: 0.00366\n",
      "mean concavity: 0.03198\n",
      "mean concave points: 0.11422\n",
      "mean symmetry: 0.00480\n",
      "mean fractal dimension: 0.00409\n",
      "radius error: 0.02162\n",
      "texture error: 0.00576\n",
      "perimeter error: 0.01477\n",
      "area error: 0.02925\n",
      "smoothness error: 0.00631\n",
      "compactness error: 0.00575\n",
      "concavity error: 0.00511\n",
      "concave points error: 0.00514\n",
      "symmetry error: 0.00343\n",
      "fractal dimension error: 0.00496\n",
      "worst radius: 0.14111\n",
      "worst texture: 0.01610\n",
      "worst perimeter: 0.08844\n",
      "worst area: 0.09414\n",
      "worst smoothness: 0.01069\n",
      "worst compactness: 0.01407\n",
      "worst concavity: 0.05057\n",
      "worst concave points: 0.17508\n",
      "worst symmetry: 0.01811\n",
      "worst fractal dimension: 0.00629\n"
     ]
    },
    {
     "data": {
      "image/png": "[encoded data removed]",
      "text/plain": [
       "<Figure size 800x640 with 1 Axes>"
      ]
     },
     "metadata": {},
     "output_type": "display_data"
    }
   ],
   "source": [
    "from matplotlib.pyplot import figure\n",
    "figure(figsize=(10, 8), dpi=80)\n",
    "\n",
    "def avaliar_features(melhor_modelo):\n",
    "    limit = 0.04\n",
    "    model = melhor_modelo[1]\n",
    "    model.fit(X_train, y_train)\n",
    "    importance = model.feature_importances_\n",
    "    colunas = data.feature_names\n",
    "    top_feature = []\n",
    "    # summarize feature importance\n",
    "    for i,v in enumerate(importance):\n",
    "        print('%s: %.5f' % (colunas[i],v))\n",
    "        if (v >= limit):\n",
    "            top_feature.append((i, v))\n",
    "\n",
    "    # plot feature importance\n",
    "    plt.bar([x for x in range(len(importance))], importance)\n",
    "    plt.show()\n",
    "    return top_feature\n",
    "\n",
    "top_feature = avaliar_features(melhor_modelo)\n",
    "n_dimensions = len(top_feature)"
   ]
  },
  {
   "cell_type": "code",
   "execution_count": 34,
   "metadata": {},
   "outputs": [
    {
     "name": "stdout",
     "output_type": "stream",
     "text": [
      "Numero de dimensões igual ou maior que 4%: 6\n"
     ]
    }
   ],
   "source": [
    "print('Numero de dimensões igual ou maior que 4%:', n_dimensions)\n"
   ]
  },
  {
   "cell_type": "markdown",
   "metadata": {},
   "source": [
    "## Aplicando os algoritmos de redução de dimensões para comparar os resultados\n",
    "\n",
    "Com base no gráfico, utilizaremos o número de features que possuem uma relevancia acima de 4% (arbitrário) mas estas não serão escolhidas manualmente, apenas a recomendação do número de dimensões (número de features que possuem +4 de relevancia)."
   ]
  },
  {
   "cell_type": "markdown",
   "metadata": {},
   "source": [
    "### PCA - Principal Component Analysis"
   ]
  },
  {
   "cell_type": "code",
   "execution_count": 46,
   "metadata": {},
   "outputs": [
    {
     "data": {
      "image/png": "[encoded data removed]",
      "text/plain": [
       "<Figure size 432x288 with 2 Axes>"
      ]
     },
     "metadata": {},
     "output_type": "display_data"
    }
   ],
   "source": [
    "#Aplicar a redução de dimensão em X e rodar o processo novamente com os melhores parametros\n",
    "from sklearn.decomposition import PCA as sklearnPCA\n",
    "pca = sklearnPCA(n_components=n_dimensions)\n",
    "X_pca = pca.fit_transform(X)\n",
    "X_train, X_test, y_train, y_test = train_test_split(X_pca, y, test_size=0.4, random_state=random_state)\n",
    "\n",
    "#Aplicar o novo X no modelo já treinado\n",
    "model = classifier.fit(X_train, y_train)\n",
    "y_pred = model.predict(X_test) # avaliando o melhor estimador\n",
    "\n",
    "report = classification_report(y_test, y_pred, target_names=['Maligno', 'Benigno'], output_dict=True)\n",
    "results.append(('PCA', report))\n",
    "classification_report(y_test, y_pred, target_names=['Maligno', 'Benigno'])\n",
    "plot_confusion_matrix(classifier, X_test, y_test, cmap=\"Blues\")\n",
    "plt.show()"
   ]
  },
  {
   "cell_type": "markdown",
   "metadata": {},
   "source": [
    "### SVD - Single Value Decomposition"
   ]
  },
  {
   "cell_type": "code",
   "execution_count": 45,
   "metadata": {},
   "outputs": [
    {
     "ename": "ImportError",
     "evalue": "cannot import name 'SVD' from 'sklearn.decomposition' (C:\\Users\\saccacio\\AppData\\Local\\Continuum\\anaconda3\\lib\\site-packages\\sklearn\\decomposition\\__init__.py)",
     "output_type": "error",
     "traceback": [
      "\u001b[1;31m---------------------------------------------------------------------------\u001b[0m",
      "\u001b[1;31mImportError\u001b[0m                               Traceback (most recent call last)",
      "\u001b[1;32m<ipython-input-45-0d32e124daeb>\u001b[0m in \u001b[0;36m<module>\u001b[1;34m\u001b[0m\n\u001b[0;32m      1\u001b[0m \u001b[1;31m#Aplicar a redução de dimensão em X e rodar o processo novamente com os melhores parametros\u001b[0m\u001b[1;33m\u001b[0m\u001b[1;33m\u001b[0m\u001b[1;33m\u001b[0m\u001b[0m\n\u001b[1;32m----> 2\u001b[1;33m \u001b[1;32mfrom\u001b[0m \u001b[0msklearn\u001b[0m\u001b[1;33m.\u001b[0m\u001b[0mdecomposition\u001b[0m \u001b[1;32mimport\u001b[0m \u001b[0mSVD\u001b[0m \u001b[1;32mas\u001b[0m \u001b[0msklearnSVD\u001b[0m\u001b[1;33m\u001b[0m\u001b[1;33m\u001b[0m\u001b[0m\n\u001b[0m\u001b[0;32m      3\u001b[0m \u001b[0mpca\u001b[0m \u001b[1;33m=\u001b[0m \u001b[0msklearnPCA\u001b[0m\u001b[1;33m(\u001b[0m\u001b[0mn_components\u001b[0m\u001b[1;33m=\u001b[0m\u001b[0mn_dimensions\u001b[0m\u001b[1;33m)\u001b[0m\u001b[1;33m\u001b[0m\u001b[1;33m\u001b[0m\u001b[0m\n\u001b[0;32m      4\u001b[0m \u001b[0mX_pca\u001b[0m \u001b[1;33m=\u001b[0m \u001b[0mpca\u001b[0m\u001b[1;33m.\u001b[0m\u001b[0mfit_transform\u001b[0m\u001b[1;33m(\u001b[0m\u001b[0mX\u001b[0m\u001b[1;33m)\u001b[0m\u001b[1;33m\u001b[0m\u001b[1;33m\u001b[0m\u001b[0m\n\u001b[0;32m      5\u001b[0m \u001b[0mX_train\u001b[0m\u001b[1;33m,\u001b[0m \u001b[0mX_test\u001b[0m\u001b[1;33m,\u001b[0m \u001b[0my_train\u001b[0m\u001b[1;33m,\u001b[0m \u001b[0my_test\u001b[0m \u001b[1;33m=\u001b[0m \u001b[0mtrain_test_split\u001b[0m\u001b[1;33m(\u001b[0m\u001b[0mX_pca\u001b[0m\u001b[1;33m,\u001b[0m \u001b[0my\u001b[0m\u001b[1;33m,\u001b[0m \u001b[0mtest_size\u001b[0m\u001b[1;33m=\u001b[0m\u001b[1;36m0.4\u001b[0m\u001b[1;33m,\u001b[0m \u001b[0mrandom_state\u001b[0m\u001b[1;33m=\u001b[0m\u001b[0mrandom_state\u001b[0m\u001b[1;33m)\u001b[0m\u001b[1;33m\u001b[0m\u001b[1;33m\u001b[0m\u001b[0m\n",
      "\u001b[1;31mImportError\u001b[0m: cannot import name 'SVD' from 'sklearn.decomposition' (C:\\Users\\saccacio\\AppData\\Local\\Continuum\\anaconda3\\lib\\site-packages\\sklearn\\decomposition\\__init__.py)"
     ]
    }
   ],
   "source": [
    "#Aplicar a redução de dimensão em X e rodar o processo novamente com os melhores parametros\n",
    "from sklearn.decomposition import SVD as sklearnSVD\n",
    "pca = sklearnPCA(n_components=n_dimensions)\n",
    "X_pca = pca.fit_transform(X)\n",
    "X_train, X_test, y_train, y_test = train_test_split(X_pca, y, test_size=0.4, random_state=random_state)\n",
    "\n",
    "#Aplicar o novo X no modelo já treinado\n",
    "model = classifier.fit(X_train, y_train)\n",
    "y_pred = model.predict(X_test) # avaliando o melhor estimador\n",
    "classification_report(y_test, y_pred, target_names=['Maligno', 'Benigno'])\n",
    "report = classification_report(y_test, y_pred, target_names=['Maligno', 'Benigno'], output_dict=True)\n",
    "results.append(('SVD', report))\n",
    "plot_confusion_matrix(classifier, X_test, y_test, cmap=\"Blues\")"
   ]
  },
  {
   "cell_type": "markdown",
   "metadata": {},
   "source": [
    "### NMF - Non-negative Matrix Factorization"
   ]
  },
  {
   "cell_type": "code",
   "execution_count": null,
   "metadata": {},
   "outputs": [],
   "source": [
    "from sklearn.decomposition import NMF as sklearnNMF\n",
    "pca = sklearnPCA(n_components=n_dimensions)\n",
    "X_pca = pca.fit_transform(X)\n",
    "X_train, X_test, y_train, y_test = train_test_split(X_pca, y, test_size=0.4, random_state=random_state)\n",
    "\n",
    "#Aplicar o novo X no modelo já treinado\n",
    "model = classifier.fit(X_train, y_train)\n",
    "y_pred = model.predict(X_test) # avaliando o melhor estimador\n",
    "classification_report(y_test, y_pred, target_names=['Maligno', 'Benigno'])\n",
    "report = classification_report(y_test, y_pred, target_names=['Maligno', 'Benigno'], output_dict=True)\n",
    "results.append(('NMF', report))\n",
    "plot_confusion_matrix(classifier, X_test, y_test, cmap=\"Blues\")"
   ]
  },
  {
   "cell_type": "markdown",
   "metadata": {},
   "source": [
    "### Autoencoder"
   ]
  },
  {
   "cell_type": "code",
   "execution_count": 74,
   "metadata": {},
   "outputs": [
    {
     "data": {
      "text/plain": [
       "array([0, 1, 2, 3])"
      ]
     },
     "execution_count": 74,
     "metadata": {},
     "output_type": "execute_result"
    }
   ],
   "source": [
    "## Import do keras\n",
    "from keras.layers import Input, Dense\n",
    "from keras.models import Model, Sequential\n",
    "from keras import regularizers\n",
    "\n",
    "\n"
   ]
  },
  {
   "cell_type": "markdown",
   "metadata": {},
   "source": [
    "### Comparando os resultados"
   ]
  },
  {
   "cell_type": "code",
   "execution_count": 56,
   "metadata": {},
   "outputs": [
    {
     "data": {
      "text/plain": [
       "['Modelo', 'PCA']"
      ]
     },
     "execution_count": 56,
     "metadata": {},
     "output_type": "execute_result"
    }
   ],
   "source": [
    "\n"
   ]
  },
  {
   "cell_type": "code",
   "execution_count": 150,
   "metadata": {},
   "outputs": [
    {
     "data": {
      "image/png": "[encoded data removed]",
      "text/plain": [
       "<Figure size 1080x720 with 1 Axes>"
      ]
     },
     "metadata": {},
     "output_type": "display_data"
    }
   ],
   "source": [
    "import numpy as np\n",
    "import matplotlib.pyplot as plt\n",
    "\n",
    "#report\n",
    "#macro_precision =  results[0]['macro avg']['precision'] \n",
    "#macro_recall = report['macro avg']['recall']    \n",
    "#macro_f1 = report['macro avg']['f1-score']\n",
    "#accuracy = report['accuracy']\n",
    "\n",
    "import numpy as np\n",
    "import matplotlib.pyplot as plt\n",
    "\n",
    "barWidth = 0.20\n",
    "\n",
    "# data to plot\n",
    "acc = [90, 55, 40, 65, 70]\n",
    "f1 = [85, 62, 54, 20, 40]\n",
    "precision = [85, 62, 54, 20, 30]\n",
    "recall = [85, 62, 54, 20, 30]\n",
    "\n",
    "\n",
    "# Set position of bar on X axis\n",
    "r1 = np.arange(len(acc))\n",
    "r2 = [x + barWidth for x in r1]\n",
    "r3 = [x + barWidth for x in r2]\n",
    "r4 = [x + barWidth for x in r3]\n",
    "\n",
    "fig = plt.figure(figsize=(15,10))\n",
    "fig.suptitle('Comparativo dos resultados', fontsize=16, fontweight='bold')\n",
    "\n",
    "#make the plot\n",
    "plt.bar(r1, acc, color='#7972fc', width=barWidth, edgecolor='white', label='Accuracy')\n",
    "plt.bar(r2, f1, color='#fc3a51', width=barWidth, edgecolor='white', label='F1')\n",
    "plt.bar(r3, precision, color='y', width=barWidth, edgecolor='white', label='Precision')\n",
    "plt.bar(r4, recall, color='#4aba50', width=barWidth, edgecolor='white', label='Recall')\n",
    "\n",
    "# Add xticks on the middle of the group bars\n",
    "plt.xlabel('Algoritmos', fontweight='bold')\n",
    "plt.xticks([r + barWidth for r in range(len(acc))], ['Modelo', 'PCA', 'SVD', 'NMF', 'AE'])\n",
    "\n",
    "plt.axhline(y=40, linestyle=\"--\")\n",
    "plt.annotate(\"Limite\", xy=(4, 41), xycoords='data', xytext=(100, 0), textcoords='offset points', fontsize=14)\n",
    " \n",
    "# Create legend & Show graphicacc\n",
    "plt.legend()\n",
    "plt.show()"
   ]
  },
  {
   "cell_type": "code",
   "execution_count": null,
   "metadata": {},
   "outputs": [],
   "source": []
  },
  {
   "cell_type": "code",
   "execution_count": null,
   "metadata": {},
   "outputs": [],
   "source": []
  }
 ],
 "metadata": {
  "kernelspec": {
   "display_name": "Python 3",
   "language": "python",
   "name": "python3"
  },
  "language_info": {
   "codemirror_mode": {
    "name": "ipython",
    "version": 3
   },
   "file_extension": ".py",
   "mimetype": "text/x-python",
   "name": "python",
   "nbconvert_exporter": "python",
   "pygments_lexer": "ipython3",
   "version": "3.7.4"
  },
  "metadata": {
   "interpreter": {
    "hash": "43c9e04d73dc828ac359c52be8edd92be05bfdb600886e1613060c70e57c8cfd"
   }
  }
 },
 "nbformat": 4,
 "nbformat_minor": 2
}
