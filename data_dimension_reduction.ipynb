{
 "cells": [
  {
   "cell_type": "markdown",
   "metadata": {},
   "source": [
    "# Data Dimensionality Reduction\n",
    "Comparar os 4 métodos de redução de dimensões (PCA, SVD, NMF e Autoencoder) em relação ao modelo sem nenhum tipo de redução.  \n",
    "Para tornar o exercício mais interessante, será avaliado não só os 4 algoritmos de redução de dimensão, mas também vários modelos de classificação.  \n",
    "O objetivo final é termos a melhor opção entre o modelo de classificação e de redução (se for o caso).  \n",
    "\n",
    "### Base de dados - SK-Learn Breast Cancer\n",
    "\n",
    "Para o exercício será utilizado o dataset do sklearn **breast cancer** (UCI ML Breast Cancer) no que contém informações sobre câncer de mama e a classificação se é benigno ou maligno.  \n",
    "Maiores detalhes sobre o dataset disponível em  \n",
    "https://scikit-learn.org/stable/modules/generated/sklearn.datasets.load_breast_cancer.html#sklearn.datasets.load_breast_cancer\n",
    "\n",
    "\n",
    "***Fonte original do dataset***  \n",
    "The copy of UCI ML Breast Cancer Wisconsin (Diagnostic) dataset is downloaded from:  \n",
    "https://goo.gl/U2Uwz2\n",
    "\n",
    "\n",
    "### Instalando as bibliotecas necessárias\n",
    "Esta etapa pode ser pulada se o ambiente já estiver configurado com as bibliotecas  \n",
    "*A instalação do  tensorflow foi recomendada pelo site do KERAS embora não utilizemos no exercício*"
   ]
  },
  {
   "cell_type": "code",
   "execution_count": null,
   "metadata": {},
   "outputs": [],
   "source": [
    "!pip install pandas\n",
    "!pip install numpy\n",
    "!pip install matplotlib\n",
    "!pip install seaborn\n",
    "!pip install -U scikit-learn\n",
    "!pip install tensorflow #keras\n",
    "!pip install keras #keras"
   ]
  },
  {
   "cell_type": "markdown",
   "metadata": {},
   "source": [
    "## Importando o Dataset\n",
    "O conjunto de dados utilizado contém possui em seu target uma classificação binária do câncer em 'malignant', 'benign' (maligno ou benigno).  \n",
    "O objetivo, é criar um classificador que ao avaliar suas 30 features possa determinar o tipo do cancer.\n"
   ]
  },
  {
   "cell_type": "code",
   "execution_count": 184,
   "metadata": {},
   "outputs": [],
   "source": [
    "#importando o conjunto de dados\n",
    "from sklearn.datasets import load_breast_cancer\n",
    "data = load_breast_cancer()"
   ]
  },
  {
   "cell_type": "markdown",
   "metadata": {},
   "source": [
    "### Exibindo as Features e targets"
   ]
  },
  {
   "cell_type": "code",
   "execution_count": 185,
   "metadata": {},
   "outputs": [
    {
     "name": "stdout",
     "output_type": "stream",
     "text": [
      "Target: ['malignant' 'benign'] \n",
      "\n",
      "Features: ['mean radius' 'mean texture' 'mean perimeter' 'mean area'\n",
      " 'mean smoothness' 'mean compactness' 'mean concavity'\n",
      " 'mean concave points' 'mean symmetry' 'mean fractal dimension'\n",
      " 'radius error' 'texture error' 'perimeter error' 'area error'\n",
      " 'smoothness error' 'compactness error' 'concavity error'\n",
      " 'concave points error' 'symmetry error' 'fractal dimension error'\n",
      " 'worst radius' 'worst texture' 'worst perimeter' 'worst area'\n",
      " 'worst smoothness' 'worst compactness' 'worst concavity'\n",
      " 'worst concave points' 'worst symmetry' 'worst fractal dimension']\n"
     ]
    }
   ],
   "source": [
    "\n",
    "print('Target:', data.target_names, '\\n')\n",
    "print('Features:',data.feature_names)"
   ]
  },
  {
   "cell_type": "markdown",
   "metadata": {},
   "source": [
    "### Importando as demais bibliotecas utilizadas"
   ]
  },
  {
   "cell_type": "code",
   "execution_count": 186,
   "metadata": {},
   "outputs": [],
   "source": [
    "import numpy as np\n",
    "import pandas as pd\n",
    "import matplotlib.pyplot as plt\n",
    "import seaborn as snb\n",
    "%matplotlib inline\n",
    "from sklearn.model_selection import train_test_split\n",
    "from sklearn import model_selection \n",
    "#plt.style.use('ggplot')\n",
    "\n",
    "from sklearn.model_selection import GridSearchCV\n",
    "from sklearn.metrics import classification_report\n",
    "from sklearn.metrics import plot_confusion_matrix\n",
    "\n",
    "from sklearn.preprocessing import MinMaxScaler, StandardScaler\n",
    "from scipy.sparse import csr_matrix\n",
    "\n",
    "import warnings\n",
    "warnings.filterwarnings(\"ignore\")\n"
   ]
  },
  {
   "cell_type": "markdown",
   "metadata": {},
   "source": [
    "### Separando os dados em treino e teste\n",
    "\n",
    "Para o exemplo utilizaremos uma base de tete de 30% do conjunto de dados."
   ]
  },
  {
   "cell_type": "code",
   "execution_count": 187,
   "metadata": {},
   "outputs": [],
   "source": [
    "random_state = 42\n",
    "#Carregndo novamente já seprando os dados\n",
    "X, y = load_breast_cancer(return_X_y=True)\n",
    "\n",
    "#separando em treino e teste com 40% para o teste\n",
    "X_train, X_test, y_train, y_test = train_test_split(X, y, test_size=0.3, random_state=random_state)"
   ]
  },
  {
   "cell_type": "markdown",
   "metadata": {},
   "source": [
    "### Definindo os modelos que serão utilizados \n",
    "\n",
    "Em princípio faremos testes com 5 tipos declassificadores"
   ]
  },
  {
   "cell_type": "code",
   "execution_count": 188,
   "metadata": {},
   "outputs": [
    {
     "name": "stdout",
     "output_type": "stream",
     "text": [
      "Resultado da avaiação\n",
      "  KNN: media 0.904652 (dp 0.021385 - max 0.936709)\n",
      "  DTC: media 0.924778 (dp 0.025964 - max 0.962025)\n",
      "  GB: media 0.942310 (dp 0.018549 - max 0.974684)\n",
      "  SVC: media 0.897057 (dp 0.025270 - max 0.924051)\n",
      "  RF: media 0.964873 (dp 0.014491 - max 0.975000)\n",
      "\n",
      "Melhor modelo: RandomForestClassifier()\n"
     ]
    }
   ],
   "source": [
    "from sklearn.tree import DecisionTreeClassifier\n",
    "from sklearn.neighbors import KNeighborsClassifier\n",
    "from sklearn.naive_bayes import GaussianNB\n",
    "from sklearn.ensemble import RandomForestClassifier\n",
    "from sklearn.svm import SVC\n",
    "\n",
    "#import warnings\n",
    "#from sklearn.exceptions import ConvergenceWarning\n",
    "#warnings.filterwarnings(\"ignore\",  category = ConvergenceWarning)\n",
    "\n",
    "def rodar_modelo(models):\n",
    "    '''Executa os modelos definidos (parametros default) e retorna o modelo com melhor performance'''\n",
    "    results = []\n",
    "    names = []\n",
    "    scoring = 'accuracy'\n",
    "    print('Resultado da avaiação')\n",
    "    for name, model in models:\n",
    "        kfold = model_selection.KFold(n_splits=5, random_state=random_state, shuffle=True)\n",
    "        cv_results = model_selection.cross_val_score(model, X_train, y_train, cv=kfold, scoring=scoring)\n",
    "        results.append(cv_results.mean())\n",
    "        names.append(name)\n",
    "        msg = \"  %s: media %f (dp %f - max %f)\" % (name, cv_results.mean(), cv_results.std(), cv_results.max())\n",
    "        print(msg)\n",
    "    pos_melhor_modelo = results.index(max(results))\n",
    "    return models[pos_melhor_modelo]\n",
    "\n",
    "\n",
    "models = []\n",
    "models.append(('KNN', KNeighborsClassifier()))\n",
    "models.append(('DTC', DecisionTreeClassifier()))\n",
    "models.append(('GB', GaussianNB()))\n",
    "models.append(('SVC', SVC()))\n",
    "models.append(('RF', RandomForestClassifier()))\n",
    "\n",
    "melhor_modelo = rodar_modelo(models)\n",
    "print('')\n",
    "print('Melhor modelo:', melhor_modelo[1])"
   ]
  },
  {
   "cell_type": "markdown",
   "metadata": {},
   "source": [
    "### Aprimorando o modelo selecionado 'Random Forest Classifier'\n",
    "\n",
    "Utilizar o GridSearch para testar um conjunto de hipoteses de parametros. O objetivo é descobrir a melhor combinação entre eles e maximizar o resultado da classificação."
   ]
  },
  {
   "cell_type": "markdown",
   "metadata": {},
   "source": [
    "\n",
    "\n",
    "params= {\n",
    "    'random_state': [None, 0, 1, 2, 3, 42],\n",
    "    'max_depth': [None, 1, 2, 3, 4, 15, 20],\n",
    "    'n_estimators': [5, 10, 100, 150, 200], \n",
    "    'max_features': ['auto', 'sqrt', 'log2', 1, 2, 3],\n",
    "    'criterion': ['gini', 'entropy'],\n",
    "    'min_samples_split': [2, 4, 6],\n",
    "    'min_samples_leaf': [1, 3, 4, 5]\n",
    "}\n",
    "\n",
    "gsc = GridSearchCV(estimator=RandomForestClassifier(),param_grid=params ,cv=5, scoring='accuracy', verbose=0, n_jobs=-1)\n",
    "\n",
    "grid_result = gsc.fit(X_train, y_train)\n",
    "best_params = grid_result.best_params_\n",
    "\n",
    "%timeit classifier = RandomForestClassifier(max_depth=best_params[\"max_depth\"], \n",
    "                                    random_state=best_params[\"random_state\"],\n",
    "                                    n_estimators = best_params[\"n_estimators\"], \n",
    "                                    max_features = best_params[\"max_features\"],\n",
    "                                    criterion=best_params[\"criterion\"], \n",
    "                                    min_samples_split=best_params[\"min_samples_split\"], \n",
    "                                    min_samples_leaf = best_params[\"min_samples_leaf\"])\n",
    "print(\"RandomForestClassifier GIRD\")\n",
    "for k, v in best_params.items():\n",
    "    print(' ', k, ': ',  v,)"
   ]
  },
  {
   "cell_type": "code",
   "execution_count": 189,
   "metadata": {},
   "outputs": [
    {
     "name": "stdout",
     "output_type": "stream",
     "text": [
      "\n",
      "              precision    recall  f1-score   support\n",
      "\n",
      "     Maligno       0.97      0.94      0.95        63\n",
      "     Benigno       0.96      0.98      0.97       108\n",
      "\n",
      "    accuracy                           0.96       171\n",
      "   macro avg       0.97      0.96      0.96       171\n",
      "weighted avg       0.96      0.96      0.96       171\n",
      "\n"
     ]
    },
    {
     "data": {
      "image/png": "[encoded data removed]",
      "text/plain": [
       "<Figure size 432x288 with 2 Axes>"
      ]
     },
     "metadata": {
      "needs_background": "light"
     },
     "output_type": "display_data"
    }
   ],
   "source": [
    "\n",
    "classifier = RandomForestClassifier()\n",
    "\n",
    "results = []\n",
    "model = classifier.fit(X_train, y_train)\n",
    "y_pred = model.predict(X_test) # avaliando o melhor estimador\n",
    "\n",
    "\n",
    "print(\"\")\n",
    "print(classification_report(y_test, y_pred, target_names=['Maligno', 'Benigno']))\n",
    "report = classification_report(y_test, y_pred, target_names=['Maligno', 'Benigno'], output_dict=True)\n",
    "results.append(('Modelo', report))\n",
    "plot_confusion_matrix(classifier, X_test, y_test, cmap=\"Blues\", display_labels=['Maligno', 'Benigno'])\n",
    "plt.show()"
   ]
  },
  {
   "cell_type": "markdown",
   "metadata": {},
   "source": [
    "### Avaliando as features do modelo quanto a sua importancia"
   ]
  },
  {
   "cell_type": "code",
   "execution_count": 190,
   "metadata": {},
   "outputs": [
    {
     "name": "stdout",
     "output_type": "stream",
     "text": [
      "mean radius: 0.03876\n",
      "mean texture: 0.02199\n",
      "mean perimeter: 0.06301\n",
      "mean area: 0.04226\n",
      "mean smoothness: 0.00483\n",
      "mean compactness: 0.00845\n",
      "mean concavity: 0.04530\n",
      "mean concave points: 0.14655\n",
      "mean symmetry: 0.00310\n",
      "mean fractal dimension: 0.00344\n",
      "radius error: 0.01662\n",
      "texture error: 0.00434\n",
      "perimeter error: 0.01094\n",
      "area error: 0.01944\n",
      "smoothness error: 0.00497\n",
      "compactness error: 0.00521\n",
      "concavity error: 0.00546\n",
      "concave points error: 0.00384\n",
      "symmetry error: 0.00420\n",
      "fractal dimension error: 0.00521\n",
      "worst radius: 0.08950\n",
      "worst texture: 0.01670\n",
      "worst perimeter: 0.11143\n",
      "worst area: 0.09236\n",
      "worst smoothness: 0.01039\n",
      "worst compactness: 0.01391\n",
      "worst concavity: 0.02186\n",
      "worst concave points: 0.16421\n",
      "worst symmetry: 0.01239\n",
      "worst fractal dimension: 0.00933\n"
     ]
    },
    {
     "data": {
      "image/png": "[encoded data removed]",
      "text/plain": [
       "<Figure size 800x640 with 1 Axes>"
      ]
     },
     "metadata": {
      "needs_background": "light"
     },
     "output_type": "display_data"
    }
   ],
   "source": [
    "from matplotlib.pyplot import figure\n",
    "figure(figsize=(10, 8), dpi=80)\n",
    "\n",
    "def avaliar_features(melhor_modelo):\n",
    "    model = melhor_modelo[1]\n",
    "    model.fit(X_train, y_train)\n",
    "    importance = model.feature_importances_\n",
    "    colunas = data.feature_names\n",
    "    values = []\n",
    "    # summarize feature importance\n",
    "    for i,v in enumerate(importance):\n",
    "        print('%s: %.5f' % (colunas[i],v))\n",
    "        values.append(v)\n",
    "\n",
    "    # plot feature importance\n",
    "    plt.bar([x for x in range(len(importance))], importance)\n",
    "    std_var = np.std(values)\n",
    "    media = np.mean(values)\n",
    "\n",
    "    \n",
    "    plt.axhline(y= media, linestyle=\"--\", color='k')\n",
    "    plt.annotate('%s: %.2f' % ('Média',media), xy=(30, media), xycoords='data', xytext=(20, 4), textcoords='offset points', fontsize=12, color='k')\n",
    "    \n",
    "    plt.axhline(y= std_var, linestyle=\"--\", color='k')\n",
    "    plt.annotate('%s: %.2f' % ('Desvio padrão',std_var), xy=(30, std_var), xycoords='data', xytext=(20, 4), textcoords='offset points', fontsize=12, color='k')\n",
    "   \n",
    "    plt.title(\"Importância de cada Feature para o modelo\")\n",
    "    plt.show()\n",
    "\n",
    "avaliar_features(melhor_modelo)"
   ]
  },
  {
   "cell_type": "markdown",
   "metadata": {},
   "source": [
    "## Aplicando os algoritmos de redução de dimensões para comparar os resultados\n",
    "\n",
    "Com base no gráfico, pecebemos que cada uma das features possui um grau diferente de relevancia para o algoritmo. Avaliar a possibilidade de diminuir a quantidade de features economizaria tempo computacional considerável."
   ]
  },
  {
   "cell_type": "markdown",
   "metadata": {},
   "source": [
    "### PCA - Principal Component Analysis"
   ]
  },
  {
   "cell_type": "code",
   "execution_count": 191,
   "metadata": {},
   "outputs": [
    {
     "name": "stdout",
     "output_type": "stream",
     "text": [
      "              precision    recall  f1-score   support\n",
      "\n",
      "     Maligno       0.91      0.94      0.93        80\n",
      "     Benigno       0.97      0.95      0.96       148\n",
      "\n",
      "    accuracy                           0.95       228\n",
      "   macro avg       0.94      0.95      0.94       228\n",
      "weighted avg       0.95      0.95      0.95       228\n",
      "\n"
     ]
    },
    {
     "data": {
      "image/png": "[encoded data removed]",
      "text/plain": [
       "<Figure size 432x288 with 2 Axes>"
      ]
     },
     "metadata": {
      "needs_background": "light"
     },
     "output_type": "display_data"
    }
   ],
   "source": [
    "#Aplicar a redução de dimensão em X e rodar o processo novamente com os melhores parametros\n",
    "from sklearn.decomposition import PCA as sklearnPCA\n",
    "\n",
    "#escalando dados\n",
    "standard_scaler = StandardScaler()\n",
    "X_rescaled  = standard_scaler.fit_transform(X)\n",
    "pct_components = 0.95\n",
    "\n",
    "pca = sklearnPCA(n_components=pct_components)\n",
    "X_pca = pca.fit_transform(X_rescaled)\n",
    "X_train_pca, X_test_pca, y_train_pca, y_test_pca = train_test_split(X_pca, y, test_size=0.4, random_state=random_state)\n",
    "\n",
    "#Aplicar o novo X no modelo já treinado\n",
    "model = classifier.fit(X_train_pca, y_train_pca)\n",
    "y_pred_pca = model.predict(X_test_pca) # avaliando o melhor estimador\n",
    "\n",
    "report = classification_report(y_test_pca, y_pred_pca, target_names=['Maligno', 'Benigno'], output_dict=True)\n",
    "results.append(('PCA', report))\n",
    "print(classification_report(y_test_pca, y_pred_pca, target_names=['Maligno', 'Benigno']))\n",
    "plot_confusion_matrix(classifier, X_test_pca, y_test_pca, cmap=\"Blues\", display_labels=['Maligno', 'Benigno'])\n",
    "plt.show()"
   ]
  },
  {
   "attachments": {},
   "cell_type": "markdown",
   "metadata": {},
   "source": [
    "### Exibindo o gráfico de componentes necessários com base em uma variancia de 0.95%\n",
    "Formato de dados antes e depois do PCA"
   ]
  },
  {
   "cell_type": "code",
   "execution_count": 193,
   "metadata": {},
   "outputs": [
    {
     "data": {
      "image/png": "[encoded data removed]",
      "text/plain": [
       "<Figure size 864x432 with 1 Axes>"
      ]
     },
     "metadata": {
      "needs_background": "light"
     },
     "output_type": "display_data"
    }
   ],
   "source": [
    "plt.rcParams[\"figure.figsize\"] = (12,6)\n",
    "\n",
    "fig, ax = plt.subplots()\n",
    "xi = np.arange(1, X_pca.shape[1]+1, step=1)\n",
    "yi = np.cumsum(pca.explained_variance_ratio_)\n",
    "\n",
    "plt.ylim(0.0,1.1)\n",
    "plt.plot(xi, yi, marker='o', linestyle='--', color='b')\n",
    "\n",
    "plt.xlabel('Numero de componentes')\n",
    "plt.xticks(np.arange(0, X_pca.shape[1]+2, step=1)) #mudando a escala do eixo só pra ficar mais bacana\n",
    "plt.ylabel('Variancia acumulada (%)')\n",
    "plt.title('Número de componentes necessários para variancia')\n",
    "\n",
    "plt.axhline(y=pct_components, color='r', linestyle='-')\n",
    "plt.text(0.5, 0.90, 'Limite de 95%', color = 'red', fontsize=16)\n",
    "\n",
    "ax.grid(axis='x')\n",
    "plt.show()"
   ]
  },
  {
   "cell_type": "markdown",
   "metadata": {},
   "source": [
    "### SVD - Single Value Decomposition"
   ]
  },
  {
   "cell_type": "code",
   "execution_count": 194,
   "metadata": {},
   "outputs": [
    {
     "data": {
      "image/png": "[encoded data removed]",
      "text/plain": [
       "<Figure size 864x432 with 1 Axes>"
      ]
     },
     "metadata": {
      "needs_background": "light"
     },
     "output_type": "display_data"
    }
   ],
   "source": [
    "U, S, V = np.linalg.svd(X_rescaled)\n",
    "k = 7\n",
    "df = pd.DataFrame({'x_values': list(range(len(S))), 'y_values': S })\n",
    "plt.rcParams[\"figure.figsize\"] = (12,6)\n",
    "plt.plot('x_values', 'y_values', data=df)\n",
    "plt.scatter(k, S[k], color='blue')\n",
    "plt.title(\"Avaliação da Curva de Erro x Componentes\")\n",
    "plt.xlabel(\"Numero de Componentes\")\n",
    "plt.ylabel(\"Erro\")\n",
    "plt.show()"
   ]
  },
  {
   "cell_type": "markdown",
   "metadata": {},
   "source": [
    "### Avaliando a quantidade de componentes\n",
    "Com a avaliação do gráfico, consideraremos 7 componentes"
   ]
  },
  {
   "cell_type": "code",
   "execution_count": 195,
   "metadata": {},
   "outputs": [
    {
     "name": "stdout",
     "output_type": "stream",
     "text": [
      "              precision    recall  f1-score   support\n",
      "\n",
      "     Maligno       0.95      0.94      0.94        80\n",
      "     Benigno       0.97      0.97      0.97       148\n",
      "\n",
      "    accuracy                           0.96       228\n",
      "   macro avg       0.96      0.96      0.96       228\n",
      "weighted avg       0.96      0.96      0.96       228\n",
      "\n"
     ]
    },
    {
     "data": {
      "image/png": "[encoded data removed]",
      "text/plain": [
       "<Figure size 864x432 with 2 Axes>"
      ]
     },
     "metadata": {
      "needs_background": "light"
     },
     "output_type": "display_data"
    }
   ],
   "source": [
    "from sklearn.decomposition import TruncatedSVD as sklearnSVD\n",
    "\n",
    "#normalizando os dados\n",
    "standard_scaler = StandardScaler()\n",
    "X_rescaled  = standard_scaler.fit_transform(X)\n",
    "\n",
    "svd = sklearnSVD(n_components=7)\n",
    "X_svd = svd.fit_transform(X_rescaled)\n",
    "\n",
    "X_train_svd, X_test_svd, y_train_svd, y_test_svd = train_test_split(X_svd, y, test_size=0.4, random_state=random_state)\n",
    "\n",
    "#Aplicar o novo X no modelo já treinado\n",
    "model = classifier.fit(X_train_svd, y_train_svd)\n",
    "y_pred_svd = model.predict(X_test_svd) # avaliando o melhor estimador\n",
    "\n",
    "report = classification_report(y_test_svd, y_pred_svd, target_names=['Maligno', 'Benigno'], output_dict=True)\n",
    "results.append(('SVD', report))\n",
    "print(classification_report(y_test_svd, y_pred_svd, target_names=['Maligno', 'Benigno']))\n",
    "plot_confusion_matrix(classifier, X_test_svd, y_test_svd, cmap=\"Blues\", display_labels=['Maligno', 'Benigno'])\n",
    "plt.show()"
   ]
  },
  {
   "cell_type": "markdown",
   "metadata": {},
   "source": [
    "### NMF - Non-negative Matrix Factorization"
   ]
  },
  {
   "cell_type": "code",
   "execution_count": 199,
   "metadata": {},
   "outputs": [
    {
     "name": "stdout",
     "output_type": "stream",
     "text": [
      "              precision    recall  f1-score   support\n",
      "\n",
      "     Maligno       0.96      0.95      0.96        80\n",
      "     Benigno       0.97      0.98      0.98       148\n",
      "\n",
      "    accuracy                           0.97       228\n",
      "   macro avg       0.97      0.96      0.97       228\n",
      "weighted avg       0.97      0.97      0.97       228\n",
      "\n"
     ]
    },
    {
     "data": {
      "image/png": "[encoded data removed]",
      "text/plain": [
       "<Figure size 864x432 with 2 Axes>"
      ]
     },
     "metadata": {
      "needs_background": "light"
     },
     "output_type": "display_data"
    }
   ],
   "source": [
    "from sklearn.decomposition import NMF as sklearnNMF\n",
    "\n",
    "nmf = sklearnNMF(n_components=7)\n",
    "\n",
    "#escalando dados\n",
    "minmax_scaler = MinMaxScaler()\n",
    "X_rescaled  = minmax_scaler.fit_transform(X)\n",
    "X_train_nmf, X_test_nmf, y_train_nmf, y_test_nmf = train_test_split(X_rescaled, y, test_size=0.4, random_state=random_state)\n",
    "\n",
    "#Aplicar o novo X no modelo já treinado\n",
    "model = classifier.fit(X_train_nmf, y_train_nmf)\n",
    "y_pred_nmf = model.predict(X_test_nmf) # avaliando o melhor estimador\n",
    "\n",
    "print(classification_report(y_test_nmf, y_pred_nmf, target_names=['Maligno', 'Benigno']))\n",
    "report = classification_report(y_test_nmf, y_pred_nmf, target_names=['Maligno', 'Benigno'], output_dict=True)\n",
    "results.append(('NMF', report))\n",
    "plot_confusion_matrix(classifier, X_test_nmf, y_test_nmf, cmap=\"Blues\", display_labels=['Maligno', 'Benigno'])\n",
    "plt.show()"
   ]
  },
  {
   "cell_type": "markdown",
   "metadata": {},
   "source": [
    "### Autoencoder"
   ]
  },
  {
   "cell_type": "code",
   "execution_count": 201,
   "metadata": {},
   "outputs": [
    {
     "name": "stdout",
     "output_type": "stream",
     "text": [
      "Complete L1: 1e-08  L2: 1e-08\n",
      "Complete L1: 1e-08  L2: 1e-07\n",
      "Complete L1: 1e-08  L2: 1e-06\n",
      "Complete L1: 1e-07  L2: 1e-08\n",
      "Complete L1: 1e-07  L2: 1e-07\n",
      "Complete L1: 1e-07  L2: 1e-06\n",
      "Complete L1: 1e-06  L2: 1e-08\n",
      "Complete L1: 1e-06  L2: 1e-07\n",
      "Complete L1: 1e-06  L2: 1e-06\n"
     ]
    }
   ],
   "source": [
    "## Import do keras\n",
    "from keras.layers import Input, Dense\n",
    "from keras.models import Model, Sequential\n",
    "from keras import regularizers\n",
    "\n",
    "#normalizando e preparando os dados\n",
    "standard_scaler = StandardScaler()\n",
    "X_rescaled  = standard_scaler.fit_transform(X)\n",
    "\n",
    "X_train_ae, X_test_ae, y_train_ae, y_test_ae = train_test_split(X_rescaled, y, test_size=0.4, random_state=random_state)\n",
    "\n",
    "\n",
    "# seguindo a recomendação, testando o modelo com vários parametros similar ao gridsearv do sklearn avaliando a melhor confirugação\n",
    "L1_val = [1e-8, 1e-7, 1e-6]\n",
    "L2_val = [1e-8, 1e-7, 1e-6]\n",
    "\n",
    "## Valores de erro\n",
    "Grid_Val = []\n",
    "\n",
    "## Loop nos regularizadores\n",
    "for L1 in L1_val:\n",
    "    for L2 in L2_val:\n",
    "        ## Construindo a camada de entrada\n",
    "        input_layer = Input(shape =(X_train_ae.shape[1], ))\n",
    "        \n",
    "        ## Construindo a rede do encoder\n",
    "        encoded = Dense(250, activation = 'relu', kernel_regularizer=regularizers.l1_l2(l1=L1, l2=L2))(input_layer)\n",
    "        encoded = Dense(50, activation = 'relu', kernel_regularizer=regularizers.l1_l2(l1=L1, l2=L2))(encoded)\n",
    "        encoded = Dense(10, activation = 'relu', kernel_regularizer=regularizers.l1_l2(l1=L1, l2=L2))(encoded)\n",
    "        encoded = Dense(2, activation = 'linear')(encoded)\n",
    "        \n",
    "        # Construindo a rede do decoder\n",
    "        decoded = Dense(10, activation = 'relu', kernel_regularizer=regularizers.l1_l2(l1=L1, l2=L2))(encoded)\n",
    "        decoded = Dense(50, activation = 'relu', kernel_regularizer=regularizers.l1_l2(l1=L1, l2=L2))(decoded)\n",
    "        decoded = Dense(250, activation = 'relu', kernel_regularizer=regularizers.l1_l2(l1=L1, l2=L2))(decoded)\n",
    "        \n",
    "        # Construindo a camada de saída\n",
    "        output_layer = Dense(X_train_ae.shape[1], activation ='linear')(decoded)\n",
    "        \n",
    "        # Definindo os parametros do Autoencoder\n",
    "        autoencoder = Model(input_layer, output_layer)\n",
    "        autoencoder.compile(optimizer = \"adam\", loss = \"mse\", metrics=[\"mse\", \"mae\"])\n",
    "        \n",
    "        ## Treinando o Autoencoder\n",
    "        autoencoder_history = autoencoder.fit(X_train_ae, X_train_ae, epochs = 40, verbose = 0, \n",
    "                                              validation_split = 0.2, batch_size=128)\n",
    "        \n",
    "        ## Adiciona o erro de teste na lista\n",
    "        Grid_Val.append([L1,L2,autoencoder_history.history[\"val_loss\"][-1]])\n",
    "        \n",
    "        ## Print do andamento\n",
    "        print(\"Complete L1:\", L1, \" L2:\", L2)\n",
    "\n",
    "## Transforma em array\n",
    "Grid_Val = np.array(Grid_Val)"
   ]
  },
  {
   "cell_type": "markdown",
   "metadata": {},
   "source": [
    "### Verificando a melhor combinação\n",
    "Após rodar a rede com vários parametros, construímos uma nova rede com os melhores selecionados"
   ]
  },
  {
   "cell_type": "code",
   "execution_count": 202,
   "metadata": {},
   "outputs": [
    {
     "name": "stdout",
     "output_type": "stream",
     "text": [
      "[[1.0000000e-08 1.0000000e-06 3.3150357e-01]]\n",
      "L1: 1e-08 L2: 1e-06\n"
     ]
    }
   ],
   "source": [
    "## Selecao do melhor modelo\n",
    "print(Grid_Val[Grid_Val[:,2] == Grid_Val[:,2].min(),:])\n",
    "L1 = Grid_Val[Grid_Val[:,2] == Grid_Val[:,2].min(),0][0]\n",
    "L2 = Grid_Val[Grid_Val[:,2] == Grid_Val[:,2].min(),1][0]\n",
    "print(\"L1:\",L1,\"L2:\",L2)"
   ]
  },
  {
   "cell_type": "code",
   "execution_count": 210,
   "metadata": {
    "scrolled": false
   },
   "outputs": [
    {
     "name": "stdout",
     "output_type": "stream",
     "text": [
      "Epoch 1/40\n",
      "3/3 [==============================] - 1s 116ms/step - loss: 1.0964 - mse: 1.0961 - mae: 0.7606 - val_loss: 0.9025 - val_mse: 0.9021 - val_mae: 0.7331\n",
      "Epoch 2/40\n",
      "3/3 [==============================] - 0s 21ms/step - loss: 1.0632 - mse: 1.0628 - mae: 0.7486 - val_loss: 0.8862 - val_mse: 0.8859 - val_mae: 0.7269\n",
      "Epoch 3/40\n",
      "3/3 [==============================] - 0s 21ms/step - loss: 0.9978 - mse: 0.9975 - mae: 0.7318 - val_loss: 0.8636 - val_mse: 0.8633 - val_mae: 0.7183\n",
      "Epoch 4/40\n",
      "3/3 [==============================] - 0s 22ms/step - loss: 0.9907 - mse: 0.9904 - mae: 0.7272 - val_loss: 0.8338 - val_mse: 0.8335 - val_mae: 0.7053\n",
      "Epoch 5/40\n",
      "3/3 [==============================] - 0s 18ms/step - loss: 0.9098 - mse: 0.9095 - mae: 0.6994 - val_loss: 0.7996 - val_mse: 0.7993 - val_mae: 0.6873\n",
      "Epoch 6/40\n",
      "3/3 [==============================] - 0s 19ms/step - loss: 0.8703 - mse: 0.8700 - mae: 0.6861 - val_loss: 0.7711 - val_mse: 0.7708 - val_mae: 0.6717\n",
      "Epoch 7/40\n",
      "3/3 [==============================] - 0s 20ms/step - loss: 0.8352 - mse: 0.8348 - mae: 0.6663 - val_loss: 0.7534 - val_mse: 0.7531 - val_mae: 0.6594\n",
      "Epoch 8/40\n",
      "3/3 [==============================] - 0s 20ms/step - loss: 0.8172 - mse: 0.8169 - mae: 0.6569 - val_loss: 0.7284 - val_mse: 0.7280 - val_mae: 0.6403\n",
      "Epoch 9/40\n",
      "3/3 [==============================] - 0s 19ms/step - loss: 0.7389 - mse: 0.7386 - mae: 0.6272 - val_loss: 0.7058 - val_mse: 0.7055 - val_mae: 0.6204\n",
      "Epoch 10/40\n",
      "3/3 [==============================] - 0s 22ms/step - loss: 0.7366 - mse: 0.7362 - mae: 0.6092 - val_loss: 0.6897 - val_mse: 0.6894 - val_mae: 0.6055\n",
      "Epoch 11/40\n",
      "3/3 [==============================] - 0s 20ms/step - loss: 0.7349 - mse: 0.7346 - mae: 0.5981 - val_loss: 0.6656 - val_mse: 0.6653 - val_mae: 0.5911\n",
      "Epoch 12/40\n",
      "3/3 [==============================] - 0s 22ms/step - loss: 0.6767 - mse: 0.6764 - mae: 0.5821 - val_loss: 0.6428 - val_mse: 0.6425 - val_mae: 0.5786\n",
      "Epoch 13/40\n",
      "3/3 [==============================] - 0s 19ms/step - loss: 0.6723 - mse: 0.6719 - mae: 0.5754 - val_loss: 0.6213 - val_mse: 0.6210 - val_mae: 0.5660\n",
      "Epoch 14/40\n",
      "3/3 [==============================] - 0s 19ms/step - loss: 0.6338 - mse: 0.6334 - mae: 0.5575 - val_loss: 0.5973 - val_mse: 0.5970 - val_mae: 0.5487\n",
      "Epoch 15/40\n",
      "3/3 [==============================] - 0s 18ms/step - loss: 0.6137 - mse: 0.6134 - mae: 0.5398 - val_loss: 0.5748 - val_mse: 0.5744 - val_mae: 0.5325\n",
      "Epoch 16/40\n",
      "3/3 [==============================] - 0s 19ms/step - loss: 0.5779 - mse: 0.5775 - mae: 0.5239 - val_loss: 0.5512 - val_mse: 0.5509 - val_mae: 0.5192\n",
      "Epoch 17/40\n",
      "3/3 [==============================] - 0s 94ms/step - loss: 0.5665 - mse: 0.5662 - mae: 0.5083 - val_loss: 0.5283 - val_mse: 0.5279 - val_mae: 0.5068\n",
      "Epoch 18/40\n",
      "3/3 [==============================] - 0s 23ms/step - loss: 0.5543 - mse: 0.5540 - mae: 0.5040 - val_loss: 0.5056 - val_mse: 0.5053 - val_mae: 0.4952\n",
      "Epoch 19/40\n",
      "3/3 [==============================] - 0s 22ms/step - loss: 0.5308 - mse: 0.5304 - mae: 0.4943 - val_loss: 0.4838 - val_mse: 0.4835 - val_mae: 0.4853\n",
      "Epoch 20/40\n",
      "3/3 [==============================] - 0s 22ms/step - loss: 0.4937 - mse: 0.4933 - mae: 0.4750 - val_loss: 0.4645 - val_mse: 0.4642 - val_mae: 0.4781\n",
      "Epoch 21/40\n",
      "3/3 [==============================] - 0s 19ms/step - loss: 0.4612 - mse: 0.4608 - mae: 0.4664 - val_loss: 0.4491 - val_mse: 0.4488 - val_mae: 0.4726\n",
      "Epoch 22/40\n",
      "3/3 [==============================] - 0s 20ms/step - loss: 0.4725 - mse: 0.4722 - mae: 0.4651 - val_loss: 0.4352 - val_mse: 0.4349 - val_mae: 0.4664\n",
      "Epoch 23/40\n",
      "3/3 [==============================] - 0s 18ms/step - loss: 0.4597 - mse: 0.4593 - mae: 0.4609 - val_loss: 0.4208 - val_mse: 0.4205 - val_mae: 0.4586\n",
      "Epoch 24/40\n",
      "3/3 [==============================] - 0s 20ms/step - loss: 0.4206 - mse: 0.4202 - mae: 0.4461 - val_loss: 0.4104 - val_mse: 0.4101 - val_mae: 0.4521\n",
      "Epoch 25/40\n",
      "3/3 [==============================] - 0s 20ms/step - loss: 0.4394 - mse: 0.4391 - mae: 0.4479 - val_loss: 0.4020 - val_mse: 0.4016 - val_mae: 0.4480\n",
      "Epoch 26/40\n",
      "3/3 [==============================] - 0s 18ms/step - loss: 0.4409 - mse: 0.4406 - mae: 0.4485 - val_loss: 0.3930 - val_mse: 0.3926 - val_mae: 0.4420\n",
      "Epoch 27/40\n",
      "3/3 [==============================] - 0s 19ms/step - loss: 0.3878 - mse: 0.3875 - mae: 0.4295 - val_loss: 0.3861 - val_mse: 0.3857 - val_mae: 0.4371\n",
      "Epoch 28/40\n",
      "3/3 [==============================] - 0s 20ms/step - loss: 0.3956 - mse: 0.3953 - mae: 0.4309 - val_loss: 0.3905 - val_mse: 0.3902 - val_mae: 0.4413\n",
      "Epoch 29/40\n",
      "3/3 [==============================] - 0s 19ms/step - loss: 0.4050 - mse: 0.4047 - mae: 0.4389 - val_loss: 0.3928 - val_mse: 0.3925 - val_mae: 0.4425\n",
      "Epoch 30/40\n",
      "3/3 [==============================] - 0s 20ms/step - loss: 0.3878 - mse: 0.3874 - mae: 0.4289 - val_loss: 0.3791 - val_mse: 0.3788 - val_mae: 0.4315\n",
      "Epoch 31/40\n",
      "3/3 [==============================] - 0s 21ms/step - loss: 0.3782 - mse: 0.3779 - mae: 0.4212 - val_loss: 0.3739 - val_mse: 0.3735 - val_mae: 0.4277\n",
      "Epoch 32/40\n",
      "3/3 [==============================] - 0s 22ms/step - loss: 0.3882 - mse: 0.3879 - mae: 0.4233 - val_loss: 0.3706 - val_mse: 0.3703 - val_mae: 0.4249\n",
      "Epoch 33/40\n",
      "3/3 [==============================] - 0s 23ms/step - loss: 0.3813 - mse: 0.3810 - mae: 0.4195 - val_loss: 0.3681 - val_mse: 0.3677 - val_mae: 0.4234\n",
      "Epoch 34/40\n",
      "3/3 [==============================] - 0s 20ms/step - loss: 0.3654 - mse: 0.3651 - mae: 0.4129 - val_loss: 0.3675 - val_mse: 0.3671 - val_mae: 0.4216\n",
      "Epoch 35/40\n",
      "3/3 [==============================] - 0s 20ms/step - loss: 0.3761 - mse: 0.3758 - mae: 0.4150 - val_loss: 0.3745 - val_mse: 0.3742 - val_mae: 0.4243\n",
      "Epoch 36/40\n",
      "3/3 [==============================] - 0s 21ms/step - loss: 0.3630 - mse: 0.3627 - mae: 0.4121 - val_loss: 0.3681 - val_mse: 0.3678 - val_mae: 0.4185\n",
      "Epoch 37/40\n",
      "3/3 [==============================] - 0s 20ms/step - loss: 0.3652 - mse: 0.3649 - mae: 0.4052 - val_loss: 0.3597 - val_mse: 0.3594 - val_mae: 0.4148\n",
      "Epoch 38/40\n",
      "3/3 [==============================] - 0s 24ms/step - loss: 0.3631 - mse: 0.3627 - mae: 0.4082 - val_loss: 0.3561 - val_mse: 0.3557 - val_mae: 0.4152\n",
      "Epoch 39/40\n",
      "3/3 [==============================] - 0s 19ms/step - loss: 0.3728 - mse: 0.3725 - mae: 0.4090 - val_loss: 0.3536 - val_mse: 0.3533 - val_mae: 0.4146\n",
      "Epoch 40/40\n",
      "3/3 [==============================] - 0s 23ms/step - loss: 0.3548 - mse: 0.3544 - mae: 0.4025 - val_loss: 0.3511 - val_mse: 0.3507 - val_mae: 0.4149\n"
     ]
    }
   ],
   "source": [
    "## Construindo a camada de entrada\n",
    "input_layer = Input(shape =(X_train_ae.shape[1], ))\n",
    "\n",
    "## Construindo a rede do encoder\n",
    "encoded = Dense(50, activation = 'relu', kernel_regularizer=regularizers.l1_l2(l1=L1, l2=L2))(input_layer)\n",
    "encoded = Dense(100, activation = 'relu', kernel_regularizer=regularizers.l1_l2(l1=L1, l2=L2))(encoded)\n",
    "encoded = Dense(50, activation = 'relu', kernel_regularizer=regularizers.l1_l2(l1=L1, l2=L2))(encoded)\n",
    "encoded = Dense(2, activation = 'linear')(encoded)\n",
    "\n",
    "## Construindo a rede do decoder\n",
    "decoded = Dense(50, activation = 'relu', kernel_regularizer=regularizers.l1_l2(l1=L1, l2=L2))(encoded)\n",
    "decoded = Dense(100, activation = 'relu', kernel_regularizer=regularizers.l1_l2(l1=L1, l2=L2))(decoded)\n",
    "decoded = Dense(50, activation = 'relu', kernel_regularizer=regularizers.l1_l2(l1=L1, l2=L2))(decoded)\n",
    "\n",
    "# Construindo a camada de saída\n",
    "output_layer = Dense(X_train_ae.shape[1], activation ='linear')(decoded)\n",
    "\n",
    "# Definindo os parametros do Autoencoder\n",
    "autoencoder = Model(input_layer, output_layer)\n",
    "autoencoder.compile(optimizer = \"adam\", loss = \"mse\", metrics=[\"mse\", \"mae\"])\n",
    "\n",
    "## Treinando o Autoencoder\n",
    "autoencoder_history = autoencoder.fit(X_train_ae, X_train_ae, epochs = 40, validation_split = 0.2, batch_size=128, validation_data=(X_test_ae, X_test_ae))"
   ]
  },
  {
   "cell_type": "code",
   "execution_count": 208,
   "metadata": {},
   "outputs": [
    {
     "data": {
      "text/plain": [
       "array([[ 1.11069417e+00, -8.13568711e-01],\n",
       "       [ 1.26137003e-01,  4.73084593e+00],\n",
       "       [-1.04322088e+00,  1.37941873e+00],\n",
       "       [ 2.76610553e-01, -2.58686304e+00],\n",
       "       [ 1.67359257e+00, -2.66655040e+00],\n",
       "       [-9.39280128e+00,  4.58457184e+00],\n",
       "       [-4.16827440e+00,  6.15885115e+00],\n",
       "       [-4.52538222e-01,  2.17969465e+00],\n",
       "       [-2.63625050e+00, -1.29767442e+00],\n",
       "       [ 4.13075733e+00,  1.17191315e+00],\n",
       "       [ 4.19971657e+00,  1.14853942e+00],\n",
       "       [ 3.44001591e-01,  2.66012955e+00],\n",
       "       [ 4.50473499e+00,  1.80215323e+00],\n",
       "       [-2.62363005e+00,  8.14863384e-01],\n",
       "       [ 3.71890879e+00, -1.51918143e-01],\n",
       "       [-5.24360371e+00,  2.63425946e+00],\n",
       "       [ 3.91581559e+00,  1.25465941e+00],\n",
       "       [ 5.33866692e+00, -2.69822955e+00],\n",
       "       [ 6.11886549e+00, -4.35983133e+00],\n",
       "       [-3.31228328e+00,  4.12075520e+00],\n",
       "       [ 3.44862550e-01, -1.73930645e-01],\n",
       "       [ 2.78892612e+00, -1.49641025e+00],\n",
       "       [-5.87280655e+00,  4.33647156e+00],\n",
       "       [ 6.14480972e+00, -4.90492076e-01],\n",
       "       [ 4.24859667e+00, -5.74227214e-01],\n",
       "       [ 1.44201982e+00, -2.08671212e+00],\n",
       "       [ 2.95735860e+00,  3.97020489e-01],\n",
       "       [ 2.14518929e+00, -2.38691139e+00],\n",
       "       [ 3.07475424e+00, -6.02526963e-01],\n",
       "       [-4.60089445e+00,  2.10297561e+00],\n",
       "       [ 1.71806312e+00, -1.78315043e+00],\n",
       "       [ 4.47278214e+00, -4.53046083e-01],\n",
       "       [ 2.92090869e+00, -3.47148895e+00],\n",
       "       [ 3.41868615e+00,  4.41933185e-01],\n",
       "       [ 3.80072236e+00, -2.57824326e+00],\n",
       "       [ 3.91711450e+00, -1.40625834e+00],\n",
       "       [ 2.09430337e+00,  1.96876907e+00],\n",
       "       [ 3.68986559e+00, -5.77954412e-01],\n",
       "       [-8.81687224e-01,  2.42979574e+00],\n",
       "       [ 2.77820492e+00,  1.18221319e+00],\n",
       "       [ 3.67418909e+00, -2.23006821e+00],\n",
       "       [-1.95561397e+00,  1.04235637e+00],\n",
       "       [ 2.00669956e+00, -9.33663011e-01],\n",
       "       [ 3.74829221e+00, -3.11438322e-01],\n",
       "       [ 2.36034083e+00, -7.26477027e-01],\n",
       "       [ 2.84247851e+00, -1.48329651e+00],\n",
       "       [ 1.53147972e+00, -4.95398998e+00],\n",
       "       [ 6.39421511e+00, -1.03436327e+00],\n",
       "       [ 2.07043529e+00, -1.22121143e+00],\n",
       "       [ 1.33824158e+00, -7.84923788e-03],\n",
       "       [-9.10955548e-01,  1.90437603e+00],\n",
       "       [-4.64122868e+00,  3.71257257e+00],\n",
       "       [-1.71340072e+00, -1.48926806e+00],\n",
       "       [-1.42139614e+00, -5.12879610e-01],\n",
       "       [-1.99605227e-01, -3.89351916e+00],\n",
       "       [ 3.82620025e+00,  1.07048857e+00],\n",
       "       [ 1.01477551e+00, -3.24392939e+00],\n",
       "       [-8.20001793e+00,  6.58056831e+00],\n",
       "       [-1.15785420e+00, -1.84102178e-01],\n",
       "       [ 3.92153382e+00, -1.00688159e+00],\n",
       "       [ 2.48609233e+00, -3.79536420e-01],\n",
       "       [-4.18676615e+00,  3.41423488e+00],\n",
       "       [-3.27035689e+00,  6.21406364e+00],\n",
       "       [ 4.08680439e+00,  1.86131489e+00],\n",
       "       [ 5.20180416e+00, -2.69644529e-01],\n",
       "       [ 1.70641112e+00, -2.43669331e-01],\n",
       "       [-5.54498482e+00,  9.39924896e-01],\n",
       "       [-1.34351025e+01,  3.55739594e+00],\n",
       "       [ 4.38985205e+00, -1.93940103e+00],\n",
       "       [ 5.51733017e-01, -8.91386986e-01],\n",
       "       [-3.33524895e+00,  1.91160068e-02],\n",
       "       [-2.02886105e+00,  1.28951001e+00],\n",
       "       [ 4.21585417e+00,  8.08032215e-01],\n",
       "       [-3.05797243e+00,  1.13672733e+00],\n",
       "       [ 5.49287939e+00, -3.85437703e+00],\n",
       "       [ 1.33508396e+00, -5.14024973e-01],\n",
       "       [ 3.31279325e+00,  9.14313316e-01],\n",
       "       [-6.83968484e-01,  2.83618599e-01],\n",
       "       [ 5.73480606e+00, -8.57077166e-02],\n",
       "       [ 6.83650076e-01, -1.96777320e+00],\n",
       "       [-9.47598875e-01,  1.29985762e+00],\n",
       "       [ 5.73103189e+00, -4.96682584e-01],\n",
       "       [-1.09047437e+00,  4.76633012e-01],\n",
       "       [-4.66477919e+00,  5.26340342e+00],\n",
       "       [ 1.20612371e+00,  2.67594504e+00],\n",
       "       [-7.83721828e+00,  2.27755368e-01],\n",
       "       [-1.06046429e+01, -2.73258948e+00],\n",
       "       [-6.25493383e+00,  2.38270569e+00],\n",
       "       [ 1.25027800e+00, -1.17210400e+00],\n",
       "       [ 2.18863559e+00, -6.69255733e-01],\n",
       "       [ 2.64225650e+00, -1.26915050e+00],\n",
       "       [ 5.95318377e-01, -1.36500254e-01],\n",
       "       [ 1.25314748e+00,  8.59703422e-01],\n",
       "       [ 8.04520035e+00,  1.91920400e+00],\n",
       "       [ 4.69747162e+00, -3.41200948e+00],\n",
       "       [ 3.57476592e+00, -3.19233942e+00],\n",
       "       [-1.96937978e+00,  4.76226997e+00],\n",
       "       [-5.51197958e+00, -1.76144376e-01],\n",
       "       [ 5.04368734e+00, -1.51016843e+00],\n",
       "       [-1.42722738e+00,  1.83376300e+00],\n",
       "       [-2.31995866e-01,  1.18402827e+00],\n",
       "       [ 6.30319691e+00, -1.98182988e+00],\n",
       "       [-5.84245110e+00,  2.86082578e+00],\n",
       "       [-1.74371266e+00,  1.86553562e+00],\n",
       "       [ 3.76912570e+00, -1.00563323e+00],\n",
       "       [ 2.21798444e+00, -6.39337480e-01],\n",
       "       [ 1.36917913e+00, -2.02346635e+00],\n",
       "       [-2.30439305e+00,  8.06505680e+00],\n",
       "       [ 1.14781395e-01,  2.85979211e-01],\n",
       "       [ 3.57614827e+00,  1.89388907e+00],\n",
       "       [-2.38638312e-01,  2.65340400e+00],\n",
       "       [ 3.13745832e+00, -1.03553164e+00],\n",
       "       [ 1.24032164e+00,  1.37481892e+00],\n",
       "       [-3.01956964e+00,  7.85159636e+00],\n",
       "       [-1.10449152e+01, -3.26146317e+00],\n",
       "       [-7.50539923e+00,  4.51720428e+00],\n",
       "       [ 2.05568838e+00, -3.36944842e+00],\n",
       "       [ 3.08971429e+00, -2.03756452e+00],\n",
       "       [ 3.37718296e+00, -3.29780912e+00],\n",
       "       [-5.46764517e+00, -3.53544801e-01],\n",
       "       [-7.59099388e+00,  1.57286987e-01],\n",
       "       [ 4.01742649e+00, -3.75514328e-01],\n",
       "       [ 3.04645205e+00, -6.02102101e-01],\n",
       "       [-1.95117998e+00,  2.76139140e+00],\n",
       "       [ 7.21570671e-01, -1.24523365e+00],\n",
       "       [-1.90765643e+00,  4.64680529e+00],\n",
       "       [-3.57842183e+00,  6.33022726e-01],\n",
       "       [ 3.33707619e+00, -2.16268015e+00],\n",
       "       [ 4.01747322e+00,  4.94923502e-01],\n",
       "       [-3.16438985e+00,  2.53283930e+00],\n",
       "       [-9.00959492e+00,  4.23614502e+00],\n",
       "       [-7.21781874e+00,  8.29996407e-01],\n",
       "       [ 3.88301563e+00,  1.69242263e+00],\n",
       "       [ 4.16209555e+00, -1.29552329e+00],\n",
       "       [ 3.40869117e+00,  1.45271671e+00],\n",
       "       [-6.61020136e+00,  3.98098379e-01],\n",
       "       [ 3.62190038e-01, -2.43125126e-01],\n",
       "       [ 3.07418203e+00, -3.61285448e+00],\n",
       "       [-2.24906468e+00,  1.51627928e-01],\n",
       "       [-1.35973608e+00,  1.55144364e-01],\n",
       "       [ 3.38042617e+00, -1.34290373e+00],\n",
       "       [-2.16407919e+00,  5.07536173e+00],\n",
       "       [ 4.52325964e+00, -1.48370016e+00],\n",
       "       [ 5.59301090e+00,  9.20389533e-01],\n",
       "       [-3.29113221e+00, -4.19486314e-01],\n",
       "       [ 2.32230639e+00,  3.98292914e-02],\n",
       "       [-2.19061685e+00,  2.10136914e+00],\n",
       "       [-1.92705083e+00,  4.97458220e+00],\n",
       "       [ 5.68931520e-01,  5.57916820e-01],\n",
       "       [ 4.90256548e+00,  1.54402196e+00],\n",
       "       [ 1.73219967e+00,  1.24030876e+00],\n",
       "       [ 5.44640303e+00,  8.15679580e-02],\n",
       "       [ 5.90241909e+00, -2.55675316e+00],\n",
       "       [ 2.83118200e+00,  4.20597792e-01],\n",
       "       [ 5.17469978e+00,  7.48323917e-01],\n",
       "       [-1.16314135e+01,  6.58918428e+00],\n",
       "       [-3.11586761e+00,  2.61247325e+00],\n",
       "       [ 7.78639174e+00, -1.03264652e-01],\n",
       "       [ 3.17059350e+00,  1.10046816e+00],\n",
       "       [ 6.00407600e+00, -4.78968561e-01],\n",
       "       [ 8.77941895e+00, -8.17991376e-01],\n",
       "       [ 2.20396161e+00, -2.04986978e+00],\n",
       "       [ 5.51273775e+00, -2.61800122e+00],\n",
       "       [ 1.31096566e+00, -6.86339080e-01],\n",
       "       [ 2.27125669e+00,  1.72816539e+00],\n",
       "       [ 1.09302104e+00, -2.24226499e+00],\n",
       "       [ 4.50129461e+00, -2.45666966e-01],\n",
       "       [ 2.42782593e+00,  1.18277848e+00],\n",
       "       [-5.49559402e+00, -4.05824661e+00],\n",
       "       [-4.89651823e+00, -1.62932110e+00],\n",
       "       [-3.15350890e+00, -9.43412185e-01],\n",
       "       [ 4.16000223e+00,  1.62692118e+00],\n",
       "       [ 2.70647168e+00,  6.10306919e-01],\n",
       "       [-3.85447192e+00, -9.25507605e-01],\n",
       "       [ 3.63300133e+00,  1.09025508e-01],\n",
       "       [ 2.95219922e+00,  7.77785480e-01],\n",
       "       [ 2.76072574e+00,  2.88665032e+00],\n",
       "       [ 2.99447149e-01,  2.42851198e-01],\n",
       "       [ 3.48632121e+00, -3.65843385e-01],\n",
       "       [ 1.53740191e+00,  1.06233396e-01],\n",
       "       [ 5.90644896e-01, -9.07767534e-01],\n",
       "       [ 3.49549818e+00, -1.56690001e-01],\n",
       "       [ 2.75343871e+00, -3.12085128e+00],\n",
       "       [-2.80001253e-01,  2.02031851e+00],\n",
       "       [-2.42114377e+00,  2.90137410e+00],\n",
       "       [-3.39660120e+00, -1.13709426e+00],\n",
       "       [-1.80472553e+00, -3.83866102e-01],\n",
       "       [ 1.66623449e+00, -2.12172106e-01],\n",
       "       [-3.28864002e+00,  9.10080492e-01],\n",
       "       [ 1.17777014e+00, -1.20072700e-01],\n",
       "       [-2.67360091e+00,  3.87844610e+00],\n",
       "       [ 3.06997895e+00,  8.18386674e-02],\n",
       "       [ 1.82509446e+00, -5.19037902e-01],\n",
       "       [ 6.93166590e+00, -4.85377342e-01],\n",
       "       [ 3.89459062e+00, -1.63941944e+00],\n",
       "       [ 1.45631647e+00,  2.26805162e+00],\n",
       "       [ 2.39654613e+00,  5.05945563e-01],\n",
       "       [ 5.20493412e+00, -2.36310506e+00],\n",
       "       [-8.18203354e+00,  2.66026711e+00],\n",
       "       [ 4.49355698e+00, -4.59461063e-01],\n",
       "       [ 5.03408623e+00,  2.03438663e+00],\n",
       "       [-6.22583866e-01, -5.64311934e+00],\n",
       "       [-8.98697472e+00,  3.49365115e+00],\n",
       "       [ 3.21940684e+00,  1.94621310e-01],\n",
       "       [-3.40717530e+00,  2.91854525e+00],\n",
       "       [-2.37196255e+00,  4.77747726e+00],\n",
       "       [ 4.00079155e+00, -4.92134929e-01],\n",
       "       [ 4.43133640e+00, -4.55043137e-01],\n",
       "       [ 1.27120376e+00, -9.63411808e-01],\n",
       "       [ 1.04994655e+00,  1.79422781e-01],\n",
       "       [ 3.03560615e+00, -2.65958452e+00],\n",
       "       [ 4.69752789e+00, -2.86530995e+00],\n",
       "       [ 4.56767604e-02, -4.13062143e+00],\n",
       "       [ 6.98082972e+00, -1.35111570e+00],\n",
       "       [-4.74839783e+00, -2.28640890e+00],\n",
       "       [ 1.08931708e+00, -3.81580210e+00],\n",
       "       [ 3.92277718e+00, -6.60009742e-01],\n",
       "       [ 4.56675434e+00, -2.93020463e+00],\n",
       "       [ 4.19285536e+00, -7.86407173e-01],\n",
       "       [ 6.50447750e+00,  5.23507178e-01],\n",
       "       [-2.51273370e+00,  6.54288411e-01],\n",
       "       [ 2.52950668e+00,  1.24292171e+00],\n",
       "       [-3.13756561e+00,  3.56627989e+00],\n",
       "       [-4.88316488e+00,  1.38956404e+00],\n",
       "       [ 2.79553604e+00, -1.01424396e+00],\n",
       "       [ 3.46459508e+00, -3.28072739e+00],\n",
       "       [-4.49098158e+00,  6.01064491e+00],\n",
       "       [ 4.19022655e+00,  5.04114568e-01]], dtype=float32)"
      ]
     },
     "execution_count": 208,
     "metadata": {},
     "output_type": "execute_result"
    }
   ],
   "source": [
    "## Retendo a parte do enconder do Autoencoder\n",
    "hidden_representation = Sequential()\n",
    "hidden_representation.add(autoencoder.layers[0])\n",
    "hidden_representation.add(autoencoder.layers[1])\n",
    "hidden_representation.add(autoencoder.layers[2])\n",
    "hidden_representation.add(autoencoder.layers[3])\n",
    "hidden_representation.add(autoencoder.layers[4])\n",
    "\n",
    "## Capturando as saídas do encoder\n",
    "res_ae = hidden_representation.predict(X_test_ae)\n",
    "\n",
    "res_ae"
   ]
  },
  {
   "cell_type": "markdown",
   "metadata": {},
   "source": [
    "### Comparando os resultados\n",
    "O gráfico abaixo compara os resultados de acurácia obtidos"
   ]
  },
  {
   "cell_type": "code",
   "execution_count": 209,
   "metadata": {},
   "outputs": [
    {
     "data": {
      "image/png": "[encoded data removed]",
      "text/plain": [
       "<Figure size 1080x720 with 1 Axes>"
      ]
     },
     "metadata": {
      "needs_background": "light"
     },
     "output_type": "display_data"
    }
   ],
   "source": [
    "import numpy as np\n",
    "import matplotlib.pyplot as plt\n",
    "\n",
    "#report\n",
    "#macro_precision =  results[0]['macro avg']['precision'] \n",
    "#macro_recall = report['macro avg']['recall']    \n",
    "#macro_f1 = report['macro avg']['f1-score']\n",
    "#accuracy = report['accuracy']\n",
    "\n",
    "import numpy as np\n",
    "import matplotlib.pyplot as plt\n",
    "\n",
    "barWidth = 0.20\n",
    "\n",
    "# data to plot\n",
    "acc = [results[0][1]['accuracy'], results[1][1]['accuracy'], results[2][1]['accuracy'], results[3][1]['accuracy'], 0.7]\n",
    "#f1 = [85, 62, 54, 20, 40]\n",
    "#precision = [85, 62, 54, 20, 30]\n",
    "#recall = [85, 62, 54, 20, 30]\n",
    "\n",
    "\n",
    "# Set position of bar on X axis\n",
    "r1 = np.arange(len(acc))\n",
    "#r2 = [x + barWidth for x in r1]\n",
    "#r3 = [x + barWidth for x in r2]\n",
    "#r4 = [x + barWidth for x in r3]\n",
    "\n",
    "fig = plt.figure(figsize=(15,10))\n",
    "plt.title('Comparativo dos resultados', fontsize=16, fontweight='bold')\n",
    "\n",
    "#make the plot\n",
    "plt.bar(r1, acc, color='#7972fc', width=barWidth, edgecolor='white', label='Accuracy')\n",
    "#plt.bar(r2, f1, color='#fc3a51', width=barWidth, edgecolor='white', label='F1')\n",
    "#plt.bar(r3, precision, color='y', width=barWidth, edgecolor='white', label='Precision')\n",
    "#plt.bar(r4, recall, color='#4aba50', width=barWidth, edgecolor='white', label='Recall')\n",
    "\n",
    "# Add xticks on the middle of the group bars\n",
    "plt.xlabel('Algoritmos', fontweight='bold')\n",
    "plt.xticks([r  for r in range(len(acc))], ['Nenhum', 'PCA', 'SVD', 'NMF', 'AE'])\n",
    "\n",
    "for label_x,label_y in zip(r1,acc):\n",
    "    label = \"{:.2f}\".format(label_y)\n",
    "    plt.annotate(label, \n",
    "                 (label_x,label_y), \n",
    "                 textcoords=\"offset points\", \n",
    "                 xytext=(0,10), \n",
    "                 ha='center')\n",
    "plt.legend()\n",
    "plt.show()"
   ]
  },
  {
   "cell_type": "code",
   "execution_count": null,
   "metadata": {},
   "outputs": [],
   "source": []
  },
  {
   "cell_type": "code",
   "execution_count": null,
   "metadata": {},
   "outputs": [],
   "source": []
  }
 ],
 "metadata": {
  "kernelspec": {
   "display_name": "Python 3",
   "language": "python",
   "name": "python3"
  },
  "language_info": {
   "codemirror_mode": {
    "name": "ipython",
    "version": 3
   },
   "file_extension": ".py",
   "mimetype": "text/x-python",
   "name": "python",
   "nbconvert_exporter": "python",
   "pygments_lexer": "ipython3",
   "version": "3.7.4"
  },
  "metadata": {
   "interpreter": {
    "hash": "43c9e04d73dc828ac359c52be8edd92be05bfdb600886e1613060c70e57c8cfd"
   }
  }
 },
 "nbformat": 4,
 "nbformat_minor": 4
}
