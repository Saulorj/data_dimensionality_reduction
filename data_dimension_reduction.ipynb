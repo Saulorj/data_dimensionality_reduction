{
 "cells": [
  {
   "cell_type": "markdown",
   "metadata": {},
   "source": [
    "# Data Dimensionality Reduction\n",
    "Comparar os 4 métodos de redução de dimensões (PCA, SVD, NMF e Autoencoder) em relação ao modelo sem nenhum tipo de redução.  \n",
    "Para tornar o exercício mais interessante, será avaliado não só os 4 algoritmos de redução de dimensão, mas também vários modelos de classificação.  \n",
    "O objetivo final é termos a melhor opção entre o modelo de classificação e de redução (se for o caso).  \n",
    "\n",
    "### Base de dados - SK-Learn Breast Cancer\n",
    "\n",
    "Para o exercício será utilizado o dataset do sklearn **breast cancer** (UCI ML Breast Cancer) no que contém informações sobre câncer de mama e a classificação se é benigno ou maligno.  \n",
    "Maiores detalhes sobre o dataset disponível em  \n",
    "https://scikit-learn.org/stable/modules/generated/sklearn.datasets.load_breast_cancer.html#sklearn.datasets.load_breast_cancer\n",
    "\n",
    "\n",
    "***Fonte original do dataset***  \n",
    "The copy of UCI ML Breast Cancer Wisconsin (Diagnostic) dataset is downloaded from:  \n",
    "https://goo.gl/U2Uwz2\n"
   ]
  },
  {
   "cell_type": "markdown",
   "metadata": {},
   "source": [
    "## Importando o Dataset\n",
    "O conjunto de dados utilizado contém possui em seu target uma classificação binária do câncer em 'malignant', 'benign' (maligno ou benigno).  \n",
    "O objetivo, é criar um classificador que ao avaliar suas 30 features possa determinar o tipo do cancer.\n"
   ]
  },
  {
   "cell_type": "code",
   "execution_count": 77,
   "metadata": {},
   "outputs": [],
   "source": [
    "#importando o conjunto de dados\n",
    "from sklearn.datasets import load_breast_cancer\n",
    "data = load_breast_cancer()"
   ]
  },
  {
   "cell_type": "markdown",
   "metadata": {},
   "source": [
    "### Exibindo as Features e targets"
   ]
  },
  {
   "cell_type": "code",
   "execution_count": 78,
   "metadata": {},
   "outputs": [
    {
     "name": "stdout",
     "output_type": "stream",
     "text": [
      "Target: ['malignant' 'benign'] \n",
      "\n",
      "Features: ['mean radius' 'mean texture' 'mean perimeter' 'mean area'\n",
      " 'mean smoothness' 'mean compactness' 'mean concavity'\n",
      " 'mean concave points' 'mean symmetry' 'mean fractal dimension'\n",
      " 'radius error' 'texture error' 'perimeter error' 'area error'\n",
      " 'smoothness error' 'compactness error' 'concavity error'\n",
      " 'concave points error' 'symmetry error' 'fractal dimension error'\n",
      " 'worst radius' 'worst texture' 'worst perimeter' 'worst area'\n",
      " 'worst smoothness' 'worst compactness' 'worst concavity'\n",
      " 'worst concave points' 'worst symmetry' 'worst fractal dimension']\n"
     ]
    }
   ],
   "source": [
    "\n",
    "print('Target:', data.target_names, '\\n')\n",
    "print('Features:',data.feature_names)"
   ]
  },
  {
   "cell_type": "markdown",
   "metadata": {},
   "source": [
    "### Importando as demais bibliotecas utilizadas"
   ]
  },
  {
   "cell_type": "code",
   "execution_count": 92,
   "metadata": {},
   "outputs": [],
   "source": [
    "import numpy as np\n",
    "import pandas as pd\n",
    "import matplotlib.pyplot as plt\n",
    "import seaborn as snb\n",
    "%matplotlib inline\n",
    "from sklearn.model_selection import train_test_split\n",
    "from sklearn import model_selection \n",
    "#plt.style.use('ggplot')\n",
    "\n",
    "from sklearn.model_selection import GridSearchCV\n",
    "from sklearn.metrics import classification_report\n",
    "from sklearn.metrics import plot_confusion_matrix\n",
    "\n",
    "from sklearn.preprocessing import MinMaxScaler, StandardScaler\n",
    "from scipy.sparse import csr_matrix\n"
   ]
  },
  {
   "cell_type": "markdown",
   "metadata": {},
   "source": [
    "### Separando os dados em treino e teste\n",
    "\n",
    "Para o exemplo utilizaremos uma base de tete de 30% do conjunto de dados."
   ]
  },
  {
   "cell_type": "code",
   "execution_count": 80,
   "metadata": {},
   "outputs": [],
   "source": [
    "random_state = 42\n",
    "#Carregndo novamente já seprando os dados\n",
    "X, y = load_breast_cancer(return_X_y=True)\n",
    "\n",
    "#separando em treino e teste com 40% para o teste\n",
    "X_train, X_test, y_train, y_test = train_test_split(X, y, test_size=0.3, random_state=random_state)"
   ]
  },
  {
   "cell_type": "markdown",
   "metadata": {},
   "source": [
    "### Definindo os modelos que serão utilizados \n",
    "\n",
    "Em princípio faremos testes com 5 tipos declassificadores"
   ]
  },
  {
   "cell_type": "code",
   "execution_count": 81,
   "metadata": {},
   "outputs": [
    {
     "name": "stdout",
     "output_type": "stream",
     "text": [
      "Resultado da avaiação\n",
      "  KNN: media 0.904652 (dp 0.021385 - max 0.936709)\n",
      "  DTC: media 0.927247 (dp 0.025304 - max 0.962025)\n",
      "  GB: media 0.942310 (dp 0.018549 - max 0.974684)\n",
      "  SVC: media 0.897057 (dp 0.025270 - max 0.924051)\n",
      "  RF: media 0.962405 (dp 0.017588 - max 0.987342)\n",
      "\n",
      "Melhor modelo: RandomForestClassifier()\n"
     ]
    }
   ],
   "source": [
    "from sklearn.tree import DecisionTreeClassifier\n",
    "from sklearn.neighbors import KNeighborsClassifier\n",
    "from sklearn.naive_bayes import GaussianNB\n",
    "from sklearn.ensemble import RandomForestClassifier\n",
    "from sklearn.svm import SVC\n",
    "\n",
    "#import warnings\n",
    "#from sklearn.exceptions import ConvergenceWarning\n",
    "#warnings.filterwarnings(\"ignore\",  category = ConvergenceWarning)\n",
    "\n",
    "def rodar_modelo(models):\n",
    "    '''Executa os modelos definidos (parametros default) e retorna o modelo com melhor performance'''\n",
    "    results = []\n",
    "    names = []\n",
    "    scoring = 'accuracy'\n",
    "    print('Resultado da avaiação')\n",
    "    for name, model in models:\n",
    "        kfold = model_selection.KFold(n_splits=5, random_state=random_state, shuffle=True)\n",
    "        cv_results = model_selection.cross_val_score(model, X_train, y_train, cv=kfold, scoring=scoring)\n",
    "        results.append(cv_results.mean())\n",
    "        names.append(name)\n",
    "        msg = \"  %s: media %f (dp %f - max %f)\" % (name, cv_results.mean(), cv_results.std(), cv_results.max())\n",
    "        print(msg)\n",
    "    pos_melhor_modelo = results.index(max(results))\n",
    "    return models[pos_melhor_modelo]\n",
    "\n",
    "\n",
    "models = []\n",
    "models.append(('KNN', KNeighborsClassifier()))\n",
    "models.append(('DTC', DecisionTreeClassifier()))\n",
    "models.append(('GB', GaussianNB()))\n",
    "models.append(('SVC', SVC()))\n",
    "models.append(('RF', RandomForestClassifier()))\n",
    "\n",
    "melhor_modelo = rodar_modelo(models)\n",
    "print('')\n",
    "print('Melhor modelo:', melhor_modelo[1])"
   ]
  },
  {
   "cell_type": "markdown",
   "metadata": {},
   "source": [
    "### Aprimorando o modelo selecionado 'Random Forest Classifier'\n",
    "\n",
    "Utilizar o GridSearch para testar um conjunto de hipoteses de parametros. O objetivo é descobrir a melhor combinação entre eles e maximizar o resultado da classificação."
   ]
  },
  {
   "cell_type": "markdown",
   "metadata": {},
   "source": [
    "\n",
    "\n",
    "params= {\n",
    "    'random_state': [None, 0, 1, 2, 3, 42],\n",
    "    'max_depth': [None, 1, 2, 3, 4, 15, 20],\n",
    "    'n_estimators': [5, 10, 100, 150, 200], \n",
    "    'max_features': ['auto', 'sqrt', 'log2', 1, 2, 3],\n",
    "    'criterion': ['gini', 'entropy'],\n",
    "    'min_samples_split': [2, 4, 6],\n",
    "    'min_samples_leaf': [1, 3, 4, 5]\n",
    "}\n",
    "\n",
    "gsc = GridSearchCV(estimator=RandomForestClassifier(),param_grid=params ,cv=5, scoring='accuracy', verbose=0, n_jobs=-1)\n",
    "\n",
    "grid_result = gsc.fit(X_train, y_train)\n",
    "best_params = grid_result.best_params_\n",
    "\n",
    "%timeit classifier = RandomForestClassifier(max_depth=best_params[\"max_depth\"], \n",
    "                                    random_state=best_params[\"random_state\"],\n",
    "                                    n_estimators = best_params[\"n_estimators\"], \n",
    "                                    max_features = best_params[\"max_features\"],\n",
    "                                    criterion=best_params[\"criterion\"], \n",
    "                                    min_samples_split=best_params[\"min_samples_split\"], \n",
    "                                    min_samples_leaf = best_params[\"min_samples_leaf\"])\n",
    "print(\"RandomForestClassifier GIRD\")\n",
    "for k, v in best_params.items():\n",
    "    print(' ', k, ': ',  v,)"
   ]
  },
  {
   "cell_type": "code",
   "execution_count": 82,
   "metadata": {},
   "outputs": [
    {
     "name": "stdout",
     "output_type": "stream",
     "text": [
      "\n",
      "              precision    recall  f1-score   support\n",
      "\n",
      "     Maligno       0.97      0.94      0.95        63\n",
      "     Benigno       0.96      0.98      0.97       108\n",
      "\n",
      "    accuracy                           0.96       171\n",
      "   macro avg       0.97      0.96      0.96       171\n",
      "weighted avg       0.96      0.96      0.96       171\n",
      "\n"
     ]
    },
    {
     "data": {
      "image/png": "[encoded data removed]",
      "text/plain": [
       "<Figure size 432x288 with 2 Axes>"
      ]
     },
     "metadata": {
      "needs_background": "light"
     },
     "output_type": "display_data"
    }
   ],
   "source": [
    "\n",
    "classifier = RandomForestClassifier()\n",
    "\n",
    "results = []\n",
    "model = classifier.fit(X_train, y_train)\n",
    "y_pred = model.predict(X_test) # avaliando o melhor estimador\n",
    "\n",
    "\n",
    "print(\"\")\n",
    "print(classification_report(y_test, y_pred, target_names=['Maligno', 'Benigno']))\n",
    "report = classification_report(y_test, y_pred, target_names=['Maligno', 'Benigno'], output_dict=True)\n",
    "results.append(('Modelo', report))\n",
    "plot_confusion_matrix(classifier, X_test, y_test, cmap=\"Blues\", display_labels=['Maligno', 'Benigno'])\n",
    "plt.show()"
   ]
  },
  {
   "cell_type": "markdown",
   "metadata": {},
   "source": [
    "### Avaliando as features do modelo quanto a sua importancia"
   ]
  },
  {
   "cell_type": "code",
   "execution_count": 83,
   "metadata": {},
   "outputs": [
    {
     "name": "stdout",
     "output_type": "stream",
     "text": [
      "mean radius: 0.04256\n",
      "mean texture: 0.01553\n",
      "mean perimeter: 0.02478\n",
      "mean area: 0.02464\n",
      "mean smoothness: 0.00556\n",
      "mean compactness: 0.01658\n",
      "mean concavity: 0.05036\n",
      "mean concave points: 0.11369\n",
      "mean symmetry: 0.00306\n",
      "mean fractal dimension: 0.00342\n",
      "radius error: 0.01967\n",
      "texture error: 0.00404\n",
      "perimeter error: 0.00579\n",
      "area error: 0.03540\n",
      "smoothness error: 0.00490\n",
      "compactness error: 0.00366\n",
      "concavity error: 0.00598\n",
      "concave points error: 0.00533\n",
      "symmetry error: 0.00566\n",
      "fractal dimension error: 0.00644\n",
      "worst radius: 0.11074\n",
      "worst texture: 0.02122\n",
      "worst perimeter: 0.13186\n",
      "worst area: 0.11697\n",
      "worst smoothness: 0.01197\n",
      "worst compactness: 0.01364\n",
      "worst concavity: 0.04496\n",
      "worst concave points: 0.12803\n",
      "worst symmetry: 0.01858\n",
      "worst fractal dimension: 0.00496\n"
     ]
    },
    {
     "data": {
      "image/png": "[encoded data removed]",
      "text/plain": [
       "<Figure size 800x640 with 1 Axes>"
      ]
     },
     "metadata": {
      "needs_background": "light"
     },
     "output_type": "display_data"
    }
   ],
   "source": [
    "from matplotlib.pyplot import figure\n",
    "figure(figsize=(10, 8), dpi=80)\n",
    "\n",
    "def avaliar_features(melhor_modelo):\n",
    "    model = melhor_modelo[1]\n",
    "    model.fit(X_train, y_train)\n",
    "    importance = model.feature_importances_\n",
    "    colunas = data.feature_names\n",
    "    values = []\n",
    "    # summarize feature importance\n",
    "    for i,v in enumerate(importance):\n",
    "        print('%s: %.5f' % (colunas[i],v))\n",
    "        values.append(v)\n",
    "\n",
    "    # plot feature importance\n",
    "    plt.bar([x for x in range(len(importance))], importance)\n",
    "    std_var = np.std(values)\n",
    "    media = np.mean(values)\n",
    "    variancia = np.var(values)\n",
    "    \n",
    "    plt.axhline(y= media, linestyle=\"--\", color='k')\n",
    "    plt.annotate('%s: %.2f' % ('Média',media), xy=(30, media), xycoords='data', xytext=(20, 4), textcoords='offset points', fontsize=12, color='k')\n",
    "    \n",
    "    plt.axhline(y= std_var, linestyle=\"--\", color='k')\n",
    "    plt.annotate('%s: %.2f' % ('Desvio padrão',std_var), xy=(30, std_var), xycoords='data', xytext=(20, 4), textcoords='offset points', fontsize=12, color='k')\n",
    "   \n",
    "    plt.axhline(y= variancia, linestyle=\"--\", color='k')\n",
    "    plt.annotate('%s: %.5f' % ('Variancia',variancia), xy=(30, variancia), xycoords='data', xytext=(20, 4), textcoords='offset points', fontsize=12, color='k')\n",
    "    plt.title(\"Importância de cada Feature para o modelo\")\n",
    "    plt.show()\n",
    "\n",
    "avaliar_features(melhor_modelo)"
   ]
  },
  {
   "cell_type": "markdown",
   "metadata": {},
   "source": [
    "## Aplicando os algoritmos de redução de dimensões para comparar os resultados\n",
    "\n",
    "Com base no gráfico, pecebemos que cada uma das features possui um grau diferente de relevancia para o algoritmo. Avaliar a possibilidade de diminuir a quantidade de features economizaria tempo computacional considerável."
   ]
  },
  {
   "cell_type": "markdown",
   "metadata": {},
   "source": [
    "### PCA - Principal Component Analysis"
   ]
  },
  {
   "cell_type": "code",
   "execution_count": 85,
   "metadata": {},
   "outputs": [
    {
     "name": "stdout",
     "output_type": "stream",
     "text": [
      "              precision    recall  f1-score   support\n",
      "\n",
      "     Maligno       0.94      0.94      0.94        80\n",
      "     Benigno       0.97      0.97      0.97       148\n",
      "\n",
      "    accuracy                           0.96       228\n",
      "   macro avg       0.95      0.95      0.95       228\n",
      "weighted avg       0.96      0.96      0.96       228\n",
      "\n"
     ]
    },
    {
     "data": {
      "image/png": "[encoded data removed]",
      "text/plain": [
       "<Figure size 432x288 with 2 Axes>"
      ]
     },
     "metadata": {
      "needs_background": "light"
     },
     "output_type": "display_data"
    }
   ],
   "source": [
    "#Aplicar a redução de dimensão em X e rodar o processo novamente com os melhores parametros\n",
    "from sklearn.decomposition import PCA as sklearnPCA\n",
    "\n",
    "#escalando dados\n",
    "minmax_scaler = MinMaxScaler()\n",
    "X_rescaled  = minmax_scaler.fit_transform(X)\n",
    "pct_components = 0.95\n",
    "\n",
    "pca = sklearnPCA(n_components=pct_components)\n",
    "X_pca = pca.fit_transform(X_rescaled)\n",
    "X_train_pca, X_test_pca, y_train_pca, y_test_pca = train_test_split(X_pca, y, test_size=0.4, random_state=random_state)\n",
    "\n",
    "#Aplicar o novo X no modelo já treinado\n",
    "model = classifier.fit(X_train_pca, y_train_pca)\n",
    "y_pred_pca = model.predict(X_test_pca) # avaliando o melhor estimador\n",
    "\n",
    "report = classification_report(y_test_pca, y_pred_pca, target_names=['Maligno', 'Benigno'], output_dict=True)\n",
    "results.append(('PCA', report))\n",
    "print(classification_report(y_test_pca, y_pred_pca, target_names=['Maligno', 'Benigno']))\n",
    "plot_confusion_matrix(classifier, X_test_pca, y_test_pca, cmap=\"Blues\", display_labels=['Maligno', 'Benigno'])\n",
    "plt.show()"
   ]
  },
  {
   "attachments": {},
   "cell_type": "markdown",
   "metadata": {},
   "source": [
    "### Exibindo o gráfico de componentes necessários com base em uma variancia de 0.95%\n",
    "Formato de dados antes e depois do PCA"
   ]
  },
  {
   "cell_type": "code",
   "execution_count": 86,
   "metadata": {},
   "outputs": [
    {
     "name": "stdout",
     "output_type": "stream",
     "text": [
      "Antes:  (569, 30)\n",
      "Depois: (569, 10)\n"
     ]
    }
   ],
   "source": [
    "print('Antes: ', X_rescaled.shape)\n",
    "print('Depois:', X_pca.shape)"
   ]
  },
  {
   "cell_type": "code",
   "execution_count": 91,
   "metadata": {},
   "outputs": [
    {
     "data": {
      "image/png": "[encoded data removed]",
      "text/plain": [
       "<Figure size 864x432 with 1 Axes>"
      ]
     },
     "metadata": {
      "needs_background": "light"
     },
     "output_type": "display_data"
    }
   ],
   "source": [
    "plt.rcParams[\"figure.figsize\"] = (12,6)\n",
    "\n",
    "fig, ax = plt.subplots()\n",
    "xi = np.arange(1, X_pca.shape[1]+1, step=1)\n",
    "y = np.cumsum(pca.explained_variance_ratio_)\n",
    "\n",
    "plt.ylim(0.0,1.1)\n",
    "plt.plot(xi, y, marker='o', linestyle='--', color='b')\n",
    "\n",
    "plt.xlabel('Numero de componentes')\n",
    "plt.xticks(np.arange(0, X_pca.shape[1]+2, step=1)) #mudando a escala do eixo só pra ficar mais bacana\n",
    "plt.ylabel('Variancia acumulada (%)')\n",
    "plt.title('Número de componentes necessários para variancia')\n",
    "\n",
    "plt.axhline(y=pct_components, color='r', linestyle='-')\n",
    "plt.text(0.5, 0.90, 'Limite de 95%', color = 'red', fontsize=16)\n",
    "\n",
    "ax.grid(axis='x')\n",
    "plt.show()"
   ]
  },
  {
   "cell_type": "markdown",
   "metadata": {},
   "source": [
    "### SVD - Single Value Decomposition"
   ]
  },
  {
   "cell_type": "code",
   "execution_count": null,
   "metadata": {},
   "outputs": [],
   "source": [
    "#Aplicar a redução de dimensão em X e rodar o processo novamente com os melhores parametros\n",
    "from sklearn.decomposition import TruncatedSVD as sklearnSVD\n",
    "\n",
    "#escalando dados\n",
    "standard_scaler = StandardScaler()\n",
    "X_rescaled  = standard_scaler.fit_transform(X)\n",
    "\n",
    "# Make sparse matrix\n",
    "X_sparse = csr_matrix(X_rescaled)\n",
    "\n",
    "# Create and run an TSVD with one less than number of features\n",
    "tsvd = sklearnSVD(n_components=X_sparse.shape[1]-1)\n",
    "X_tsvd = tsvd.fit(X)\n",
    "\n",
    "\n",
    "\n",
    "\n",
    "\n",
    "\n",
    "\n",
    "\n",
    "pca = sklearnSVD(n_components=n_dimensions)\n",
    "X_pca = pca.fit_transform(X)\n",
    "X_train, X_test, y_train, y_test = train_test_split(X_pca, y, test_size=0.4, random_state=random_state)\n",
    "\n",
    "#Aplicar o novo X no modelo já treinado\n",
    "model = classifier.fit(X_train, y_train)\n",
    "y_pred = model.predict(X_test) # avaliando o melhor estimador\n",
    "classification_report(y_test, y_pred, target_names=['Maligno', 'Benigno'])\n",
    "report = classification_report(y_test, y_pred, target_names=['Maligno', 'Benigno'], output_dict=True)\n",
    "results.append(('SVD', report))\n",
    "\n",
    "plot_confusion_matrix(classifier, X_test, y_test, cmap=\"Blues\")"
   ]
  },
  {
   "cell_type": "markdown",
   "metadata": {},
   "source": [
    "### NMF - Non-negative Matrix Factorization"
   ]
  },
  {
   "cell_type": "code",
   "execution_count": null,
   "metadata": {},
   "outputs": [],
   "source": [
    "from sklearn.decomposition import NMF as sklearnNMF\n",
    "pca = sklearnPCA(n_components=n_dimensions)\n",
    "X_pca = pca.fit_transform(X)\n",
    "X_train, X_test, y_train, y_test = train_test_split(X_pca, y, test_size=0.4, random_state=random_state)\n",
    "\n",
    "#Aplicar o novo X no modelo já treinado\n",
    "model = classifier.fit(X_train, y_train)\n",
    "y_pred = model.predict(X_test) # avaliando o melhor estimador\n",
    "classification_report(y_test, y_pred, target_names=['Maligno', 'Benigno'])\n",
    "report = classification_report(y_test, y_pred, target_names=['Maligno', 'Benigno'], output_dict=True)\n",
    "results.append(('NMF', report))\n",
    "plot_confusion_matrix(classifier, X_test, y_test, cmap=\"Blues\")"
   ]
  },
  {
   "cell_type": "markdown",
   "metadata": {},
   "source": [
    "### Autoencoder"
   ]
  },
  {
   "cell_type": "code",
   "execution_count": null,
   "metadata": {},
   "outputs": [],
   "source": [
    "## Import do keras\n",
    "from keras.layers import Input, Dense\n",
    "from keras.models import Model, Sequential\n",
    "from keras import regularizers\n",
    "\n",
    "\n"
   ]
  },
  {
   "cell_type": "markdown",
   "metadata": {},
   "source": [
    "### Comparando os resultados"
   ]
  },
  {
   "cell_type": "code",
   "execution_count": null,
   "metadata": {},
   "outputs": [],
   "source": [
    "\n"
   ]
  },
  {
   "cell_type": "code",
   "execution_count": null,
   "metadata": {},
   "outputs": [],
   "source": [
    "import numpy as np\n",
    "import matplotlib.pyplot as plt\n",
    "\n",
    "#report\n",
    "#macro_precision =  results[0]['macro avg']['precision'] \n",
    "#macro_recall = report['macro avg']['recall']    \n",
    "#macro_f1 = report['macro avg']['f1-score']\n",
    "#accuracy = report['accuracy']\n",
    "\n",
    "import numpy as np\n",
    "import matplotlib.pyplot as plt\n",
    "\n",
    "barWidth = 0.20\n",
    "\n",
    "# data to plot\n",
    "acc = [90, 55, 40, 65, 70]\n",
    "f1 = [85, 62, 54, 20, 40]\n",
    "precision = [85, 62, 54, 20, 30]\n",
    "recall = [85, 62, 54, 20, 30]\n",
    "\n",
    "\n",
    "# Set position of bar on X axis\n",
    "r1 = np.arange(len(acc))\n",
    "r2 = [x + barWidth for x in r1]\n",
    "r3 = [x + barWidth for x in r2]\n",
    "r4 = [x + barWidth for x in r3]\n",
    "\n",
    "fig = plt.figure(figsize=(15,10))\n",
    "fig.suptitle('Comparativo dos resultados', fontsize=16, fontweight='bold')\n",
    "\n",
    "#make the plot\n",
    "plt.bar(r1, acc, color='#7972fc', width=barWidth, edgecolor='white', label='Accuracy')\n",
    "plt.bar(r2, f1, color='#fc3a51', width=barWidth, edgecolor='white', label='F1')\n",
    "plt.bar(r3, precision, color='y', width=barWidth, edgecolor='white', label='Precision')\n",
    "plt.bar(r4, recall, color='#4aba50', width=barWidth, edgecolor='white', label='Recall')\n",
    "\n",
    "# Add xticks on the middle of the group bars\n",
    "plt.xlabel('Algoritmos', fontweight='bold')\n",
    "plt.xticks([r + barWidth for r in range(len(acc))], ['Modelo', 'PCA', 'SVD', 'NMF', 'AE'])\n",
    "\n",
    "#label\n",
    "plt.axhline(y=40, linestyle=\"--\")\n",
    "plt.annotate(\"Limite\", xy=(4, 41), xycoords='data', xytext=(100, 0), textcoords='offset points', fontsize=14)\n",
    " \n",
    "# Create legend & Show graphicacc\n",
    "plt.legend()\n",
    "plt.show()"
   ]
  },
  {
   "cell_type": "code",
   "execution_count": null,
   "metadata": {},
   "outputs": [],
   "source": []
  },
  {
   "cell_type": "code",
   "execution_count": null,
   "metadata": {},
   "outputs": [],
   "source": []
  }
 ],
 "metadata": {
  "kernelspec": {
   "display_name": "Python 3",
   "language": "python",
   "name": "python3"
  },
  "language_info": {
   "codemirror_mode": {
    "name": "ipython",
    "version": 3
   },
   "file_extension": ".py",
   "mimetype": "text/x-python",
   "name": "python",
   "nbconvert_exporter": "python",
   "pygments_lexer": "ipython3",
   "version": "3.7.4"
  },
  "metadata": {
   "interpreter": {
    "hash": "43c9e04d73dc828ac359c52be8edd92be05bfdb600886e1613060c70e57c8cfd"
   }
  }
 },
 "nbformat": 4,
 "nbformat_minor": 4
}
