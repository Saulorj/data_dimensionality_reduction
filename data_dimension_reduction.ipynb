{
 "cells": [
  {
   "cell_type": "markdown",
   "metadata": {},
   "source": [
    "# Data Dimensionality Reduction\n",
    "Comparar os 4 métodos de redução de dimensões (PCA, SVD, NMF e Autoencoder) em relação ao modelo sem nenhum tipo de redução.  \n",
    "Para tornar o exercício mais interessante, será avaliado não só os 4 algoritmos de redução de dimensão, mas também vários modelos de classificação.  \n",
    "O objetivo final é termos a melhor opção entre o modelo de classificação e de redução (se for o caso).  \n",
    "\n",
    "### Base de dados - SK-Learn Breast Cancer\n",
    "\n",
    "Para o exercício será utilizado o dataset do sklearn **breast cancer** (UCI ML Breast Cancer) no que contém informações sobre câncer de mama e a classificação se é benigno ou maligno.  \n",
    "Maiores detalhes sobre o dataset disponível em  \n",
    "https://scikit-learn.org/stable/modules/generated/sklearn.datasets.load_breast_cancer.html#sklearn.datasets.load_breast_cancer\n",
    "\n",
    "\n",
    "***Fonte original do dataset***  \n",
    "The copy of UCI ML Breast Cancer Wisconsin (Diagnostic) dataset is downloaded from:  \n",
    "https://goo.gl/U2Uwz2\n",
    "\n",
    "\n",
    "### Instalando as bibliotecas necessárias\n",
    "Esta etapa pode ser pulada se o ambiente já estiver configurado com as bibliotecas  \n",
    "*A instalação do  tensorflow foi recomendada pelo site do KERAS embora não utilizemos no exercício*"
   ]
  },
  {
   "cell_type": "markdown",
   "metadata": {},
   "source": [
    "!pip install pandas\n",
    "!pip install numpy\n",
    "!pip install matplotlib\n",
    "!pip install seaborn\n",
    "!pip install -U scikit-learn\n",
    "!pip install tensorflow #keras\n",
    "!pip install keras #keras"
   ]
  },
  {
   "cell_type": "markdown",
   "metadata": {},
   "source": [
    "## Importando o Dataset\n",
    "O conjunto de dados utilizado contém possui em seu target uma classificação binária do câncer em 'malignant', 'benign' (maligno ou benigno).  \n",
    "O objetivo, é criar um classificador que ao avaliar suas 30 features possa determinar o tipo do cancer.\n"
   ]
  },
  {
   "cell_type": "code",
   "execution_count": 6,
   "metadata": {},
   "outputs": [],
   "source": [
    "#importando o conjunto de dados\n",
    "from sklearn.datasets import load_breast_cancer\n",
    "data = load_breast_cancer()"
   ]
  },
  {
   "cell_type": "markdown",
   "metadata": {},
   "source": [
    "### Exibindo as Features e targets"
   ]
  },
  {
   "cell_type": "code",
   "execution_count": 7,
   "metadata": {},
   "outputs": [
    {
     "name": "stdout",
     "output_type": "stream",
     "text": [
      "Target: ['malignant' 'benign'] \n",
      "\n",
      "Features: ['mean radius' 'mean texture' 'mean perimeter' 'mean area'\n",
      " 'mean smoothness' 'mean compactness' 'mean concavity'\n",
      " 'mean concave points' 'mean symmetry' 'mean fractal dimension'\n",
      " 'radius error' 'texture error' 'perimeter error' 'area error'\n",
      " 'smoothness error' 'compactness error' 'concavity error'\n",
      " 'concave points error' 'symmetry error' 'fractal dimension error'\n",
      " 'worst radius' 'worst texture' 'worst perimeter' 'worst area'\n",
      " 'worst smoothness' 'worst compactness' 'worst concavity'\n",
      " 'worst concave points' 'worst symmetry' 'worst fractal dimension']\n"
     ]
    }
   ],
   "source": [
    "\n",
    "print('Target:', data.target_names, '\\n')\n",
    "print('Features:',data.feature_names)"
   ]
  },
  {
   "cell_type": "markdown",
   "metadata": {},
   "source": [
    "### Importando as demais bibliotecas utilizadas"
   ]
  },
  {
   "cell_type": "code",
   "execution_count": 8,
   "metadata": {},
   "outputs": [],
   "source": [
    "import numpy as np\n",
    "import pandas as pd\n",
    "import matplotlib.pyplot as plt\n",
    "import seaborn as snb\n",
    "%matplotlib inline\n",
    "from sklearn.model_selection import train_test_split\n",
    "from sklearn import model_selection \n",
    "\n",
    "from sklearn.model_selection import GridSearchCV\n",
    "from sklearn.metrics import classification_report\n",
    "from sklearn.metrics import plot_confusion_matrix\n",
    "\n",
    "from sklearn.preprocessing import MinMaxScaler, StandardScaler\n",
    "from scipy.sparse import csr_matrix\n",
    "\n",
    "import warnings\n",
    "warnings.filterwarnings(\"ignore\")\n"
   ]
  },
  {
   "cell_type": "markdown",
   "metadata": {},
   "source": [
    "### Separando os dados em treino e teste\n",
    "\n",
    "Para o exemplo utilizaremos uma base de tete de 30% do conjunto de dados."
   ]
  },
  {
   "cell_type": "code",
   "execution_count": 9,
   "metadata": {},
   "outputs": [],
   "source": [
    "random_state = 42\n",
    "#Carregndo novamente já seprando os dados\n",
    "X, y = load_breast_cancer(return_X_y=True)\n",
    "\n",
    "#separando em treino e teste com 40% para o teste\n",
    "X_train, X_test, y_train, y_test = train_test_split(X, y, test_size=0.3, random_state=random_state)"
   ]
  },
  {
   "cell_type": "markdown",
   "metadata": {},
   "source": [
    "### Rodando 3 modelos para avaliar os resultados\n",
    "\n",
    "Utilizar o GridSearch para testar um conjunto de hipoteses de parametros. O objetivo é descobrir a melhor combinação entre eles e maximizar o resultado da classificação para os 3 modelos escolhidos."
   ]
  },
  {
   "cell_type": "code",
   "execution_count": 10,
   "metadata": {},
   "outputs": [],
   "source": [
    "from sklearn.naive_bayes import GaussianNB\n",
    "from sklearn.ensemble import RandomForestClassifier\n",
    "from sklearn.svm import SVC\n",
    "\n",
    "params_gb = {\n",
    "    'var_smoothing': np.logspace(0,-9, num=100)\n",
    "}\n",
    "\n",
    "params_svc = {\n",
    "    'C': [0.1, 1, 10, 100, 1000], \n",
    "    'gamma': [1, 0.1, 0.01, 0.001, 0.0001],\n",
    "    'kernel': ['rbf', 'poly', 'sigmoid']\n",
    "}\n",
    "\n",
    "params_rf = {\n",
    "    'random_state': [None, 0, 1, 2, 3, 42],\n",
    "    'max_depth': [None, 1, 2, 3, 4, 15, 20],\n",
    "    'n_estimators': [5, 10, 100, 150, 200], \n",
    "    'max_features': ['auto', 'sqrt', 'log2', 1, 2, 3],\n",
    "    'criterion': ['gini', 'entropy'],\n",
    "    'min_samples_split': [2, 4, 6],\n",
    "    'min_samples_leaf': [1, 3, 4, 5]\n",
    "}\n",
    "\n",
    "gsc_rf = GridSearchCV(estimator=RandomForestClassifier(),param_grid=params_rf ,cv=5, scoring='accuracy', verbose=0, n_jobs=-1)\n",
    "grid_result_rf = gsc_rf.fit(X_train, y_train)\n",
    "\n",
    "gsc_gb = GridSearchCV(estimator=GaussianNB(),param_grid=params_gb ,cv=5, scoring='accuracy', verbose=0, n_jobs=-1)\n",
    "grid_result_gb = gsc_gb.fit(X_train, y_train)\n",
    "\n",
    "gsc_svc = GridSearchCV(estimator=SVC(),param_grid=params_svc ,cv=5, scoring='accuracy', verbose=0, n_jobs=-1)\n",
    "grid_result_svc = gsc_gb.fit(X_train, y_train)\n",
    "\n"
   ]
  },
  {
   "cell_type": "code",
   "execution_count": 14,
   "metadata": {},
   "outputs": [
    {
     "name": "stdout",
     "output_type": "stream",
     "text": [
      "RF: 0.9699050632911392\n",
      "GB: 0.9421835443037976\n",
      "SVS: 0.9421835443037976\n"
     ]
    }
   ],
   "source": [
    "print('RF:', gsc_rf.best_score_)\n",
    "print('GB:', gsc_gb.best_score_)\n",
    "print('SVS:', grid_result_svc.best_score_)"
   ]
  },
  {
   "cell_type": "markdown",
   "metadata": {},
   "source": [
    "### Avaliando o resultado do GridSearch\n",
    "Com os o tunning dos hyperparametros, o melhor algoritmo foi o RandomForest.  \n",
    "Aplicar o modelo com dados de teste para seguir com os resultados"
   ]
  },
  {
   "cell_type": "code",
   "execution_count": 15,
   "metadata": {},
   "outputs": [
    {
     "name": "stdout",
     "output_type": "stream",
     "text": [
      "RandomForestClassifier GIRD\n",
      "  criterion :  entropy\n",
      "  max_depth :  None\n",
      "  max_features :  auto\n",
      "  min_samples_leaf :  1\n",
      "  min_samples_split :  4\n",
      "  n_estimators :  10\n",
      "  random_state :  None\n"
     ]
    }
   ],
   "source": [
    "\n",
    "best_params = grid_result_rf.best_params_\n",
    "classifier = RandomForestClassifier(max_depth=best_params[\"max_depth\"], \n",
    "                                    random_state=best_params[\"random_state\"],\n",
    "                                    n_estimators = best_params[\"n_estimators\"], \n",
    "                                    max_features = best_params[\"max_features\"],\n",
    "                                    criterion=best_params[\"criterion\"], \n",
    "                                    min_samples_split=best_params[\"min_samples_split\"], \n",
    "                                    min_samples_leaf = best_params[\"min_samples_leaf\"])\n",
    "print(\"RandomForestClassifier GIRD\")\n",
    "for k, v in best_params.items():\n",
    "    print(' ', k, ': ',  v,)"
   ]
  },
  {
   "cell_type": "code",
   "execution_count": 16,
   "metadata": {},
   "outputs": [
    {
     "name": "stdout",
     "output_type": "stream",
     "text": [
      "\n",
      "              precision    recall  f1-score   support\n",
      "\n",
      "     Maligno       0.98      0.94      0.96        63\n",
      "     Benigno       0.96      0.99      0.98       108\n",
      "\n",
      "    accuracy                           0.97       171\n",
      "   macro avg       0.97      0.96      0.97       171\n",
      "weighted avg       0.97      0.97      0.97       171\n",
      "\n"
     ]
    },
    {
     "data": {
      "image/png": "[encoded data removed]",
      "text/plain": [
       "<Figure size 432x288 with 2 Axes>"
      ]
     },
     "metadata": {
      "needs_background": "light"
     },
     "output_type": "display_data"
    }
   ],
   "source": [
    "results = []\n",
    "model = classifier.fit(X_train, y_train)\n",
    "y_pred = model.predict(X_test) # avaliando o melhor estimador\n",
    "\n",
    "\n",
    "print(\"\")\n",
    "print(classification_report(y_test, y_pred, target_names=['Maligno', 'Benigno']))\n",
    "report = classification_report(y_test, y_pred, target_names=['Maligno', 'Benigno'], output_dict=True)\n",
    "results.append(('Modelo', report))\n",
    "plot_confusion_matrix(classifier, X_test, y_test, cmap=\"Blues\", display_labels=['Maligno', 'Benigno'])\n",
    "plt.show()"
   ]
  },
  {
   "cell_type": "markdown",
   "metadata": {},
   "source": [
    "### Avaliando as features do modelo quanto a sua importancia"
   ]
  },
  {
   "cell_type": "code",
   "execution_count": 18,
   "metadata": {},
   "outputs": [
    {
     "name": "stdout",
     "output_type": "stream",
     "text": [
      "mean radius: 0.06749\n",
      "mean texture: 0.01010\n",
      "mean perimeter: 0.04946\n",
      "mean area: 0.01545\n",
      "mean smoothness: 0.00493\n",
      "mean compactness: 0.01370\n",
      "mean concavity: 0.02343\n",
      "mean concave points: 0.05138\n",
      "mean symmetry: 0.00456\n",
      "mean fractal dimension: 0.00181\n",
      "radius error: 0.00743\n",
      "texture error: 0.01039\n",
      "perimeter error: 0.01505\n",
      "area error: 0.01698\n",
      "smoothness error: 0.00420\n",
      "compactness error: 0.00199\n",
      "concavity error: 0.00348\n",
      "concave points error: 0.00277\n",
      "symmetry error: 0.00671\n",
      "fractal dimension error: 0.01249\n",
      "worst radius: 0.15492\n",
      "worst texture: 0.01203\n",
      "worst perimeter: 0.08237\n",
      "worst area: 0.08998\n",
      "worst smoothness: 0.01045\n",
      "worst compactness: 0.00530\n",
      "worst concavity: 0.05461\n",
      "worst concave points: 0.26050\n",
      "worst symmetry: 0.00402\n",
      "worst fractal dimension: 0.00203\n"
     ]
    },
    {
     "data": {
      "image/png": "[encoded data removed]",
      "text/plain": [
       "<Figure size 800x640 with 1 Axes>"
      ]
     },
     "metadata": {
      "needs_background": "light"
     },
     "output_type": "display_data"
    }
   ],
   "source": [
    "from matplotlib.pyplot import figure\n",
    "figure(figsize=(10, 8), dpi=80)\n",
    "\n",
    "def avaliar_features(modelo):\n",
    "    model.fit(X_train, y_train)\n",
    "    importance = model.feature_importances_\n",
    "    colunas = data.feature_names\n",
    "    values = []\n",
    "    # summarize feature importance\n",
    "    for i,v in enumerate(importance):\n",
    "        print('%s: %.5f' % (colunas[i],v))\n",
    "        values.append(v)\n",
    "\n",
    "    # plot feature importance\n",
    "    plt.bar([x for x in range(len(importance))], importance)\n",
    "    std_var = np.std(values)\n",
    "    media = np.mean(values)\n",
    "\n",
    "    \n",
    "    plt.axhline(y= media, linestyle=\"--\", color='k')\n",
    "    plt.annotate('%s: %.2f' % ('Média',media), xy=(30, media), xycoords='data', xytext=(20, 4), textcoords='offset points', fontsize=12, color='k')\n",
    "    \n",
    "    plt.axhline(y= std_var, linestyle=\"--\", color='k')\n",
    "    plt.annotate('%s: %.2f' % ('Desvio padrão',std_var), xy=(30, std_var), xycoords='data', xytext=(20, 4), textcoords='offset points', fontsize=12, color='k')\n",
    "   \n",
    "    plt.title(\"Importância de cada Feature para o modelo\")\n",
    "    plt.show()\n",
    "\n",
    "avaliar_features(model)"
   ]
  },
  {
   "cell_type": "markdown",
   "metadata": {},
   "source": [
    "## Aplicando os algoritmos de redução de dimensões para comparar os resultados\n",
    "\n",
    "Com base no gráfico, pecebemos que cada uma das features possui um grau diferente de relevancia para o algoritmo. Avaliar a possibilidade de diminuir a quantidade de features economizaria tempo computacional considerável."
   ]
  },
  {
   "cell_type": "markdown",
   "metadata": {},
   "source": [
    "### PCA - Principal Component Analysis"
   ]
  },
  {
   "cell_type": "code",
   "execution_count": 19,
   "metadata": {},
   "outputs": [
    {
     "name": "stdout",
     "output_type": "stream",
     "text": [
      "              precision    recall  f1-score   support\n",
      "\n",
      "     Maligno       0.88      0.95      0.92        80\n",
      "     Benigno       0.97      0.93      0.95       148\n",
      "\n",
      "    accuracy                           0.94       228\n",
      "   macro avg       0.93      0.94      0.93       228\n",
      "weighted avg       0.94      0.94      0.94       228\n",
      "\n"
     ]
    },
    {
     "data": {
      "image/png": "[encoded data removed]",
      "text/plain": [
       "<Figure size 432x288 with 2 Axes>"
      ]
     },
     "metadata": {
      "needs_background": "light"
     },
     "output_type": "display_data"
    }
   ],
   "source": [
    "#Aplicar a redução de dimensão em X e rodar o processo novamente com os melhores parametros\n",
    "from sklearn.decomposition import PCA as sklearnPCA\n",
    "\n",
    "#escalando dados\n",
    "standard_scaler = StandardScaler()\n",
    "X_rescaled  = standard_scaler.fit_transform(X)\n",
    "pct_components = 0.95\n",
    "\n",
    "pca = sklearnPCA(n_components=pct_components)\n",
    "X_pca = pca.fit_transform(X_rescaled)\n",
    "X_train_pca, X_test_pca, y_train_pca, y_test_pca = train_test_split(X_pca, y, test_size=0.4, random_state=random_state)\n",
    "\n",
    "#Aplicar o novo X no modelo já treinado\n",
    "model = classifier.fit(X_train_pca, y_train_pca)\n",
    "y_pred_pca = model.predict(X_test_pca) # avaliando o melhor estimador\n",
    "\n",
    "report = classification_report(y_test_pca, y_pred_pca, target_names=['Maligno', 'Benigno'], output_dict=True)\n",
    "results.append(('PCA', report))\n",
    "print(classification_report(y_test_pca, y_pred_pca, target_names=['Maligno', 'Benigno']))\n",
    "plot_confusion_matrix(classifier, X_test_pca, y_test_pca, cmap=\"Blues\", display_labels=['Maligno', 'Benigno'])\n",
    "plt.show()"
   ]
  },
  {
   "cell_type": "markdown",
   "metadata": {},
   "source": [
    "### Exibindo o gráfico de componentes necessários com base em uma variancia de 0.95%\n",
    "Formato de dados antes e depois do PCA"
   ]
  },
  {
   "cell_type": "code",
   "execution_count": 20,
   "metadata": {},
   "outputs": [
    {
     "data": {
      "image/png": "[encoded data removed]",
      "text/plain": [
       "<Figure size 864x432 with 1 Axes>"
      ]
     },
     "metadata": {
      "needs_background": "light"
     },
     "output_type": "display_data"
    }
   ],
   "source": [
    "plt.rcParams[\"figure.figsize\"] = (12,6)\n",
    "\n",
    "fig, ax = plt.subplots()\n",
    "xi = np.arange(1, X_pca.shape[1]+1, step=1)\n",
    "yi = np.cumsum(pca.explained_variance_ratio_)\n",
    "\n",
    "plt.ylim(0.0,1.1)\n",
    "plt.plot(xi, yi, marker='o', linestyle='--', color='b')\n",
    "\n",
    "plt.xlabel('Numero de componentes')\n",
    "plt.xticks(np.arange(0, X_pca.shape[1]+2, step=1)) #mudando a escala do eixo só pra ficar mais bacana\n",
    "plt.ylabel('Variancia acumulada (%)')\n",
    "plt.title('Número de componentes necessários para variancia')\n",
    "\n",
    "plt.axhline(y=pct_components, color='r', linestyle='-')\n",
    "plt.text(0.5, 0.90, 'Limite de 95%', color = 'red', fontsize=16)\n",
    "\n",
    "ax.grid(axis='x')\n",
    "plt.show()"
   ]
  },
  {
   "cell_type": "markdown",
   "metadata": {},
   "source": [
    "### SVD - Single Value Decomposition"
   ]
  },
  {
   "cell_type": "code",
   "execution_count": 21,
   "metadata": {},
   "outputs": [
    {
     "data": {
      "image/png": "[encoded data removed]",
      "text/plain": [
       "<Figure size 864x432 with 1 Axes>"
      ]
     },
     "metadata": {
      "needs_background": "light"
     },
     "output_type": "display_data"
    }
   ],
   "source": [
    "U, S, V = np.linalg.svd(X_rescaled)\n",
    "k = 7\n",
    "df = pd.DataFrame({'x_values': list(range(len(S))), 'y_values': S })\n",
    "plt.rcParams[\"figure.figsize\"] = (12,6)\n",
    "plt.plot('x_values', 'y_values', data=df, color='red')\n",
    "plt.scatter(k, S[k], color='blue')\n",
    "plt.title(\"Avaliação da Curva de Erro x Componentes\")\n",
    "plt.xlabel(\"Numero de Componentes\")\n",
    "plt.ylabel(\"Erro\")\n",
    "plt.show()"
   ]
  },
  {
   "cell_type": "markdown",
   "metadata": {},
   "source": [
    "### Avaliando a quantidade de componentes\n",
    "Com a avaliação do gráfico, consideraremos 7 componentes"
   ]
  },
  {
   "cell_type": "code",
   "execution_count": 22,
   "metadata": {},
   "outputs": [
    {
     "name": "stdout",
     "output_type": "stream",
     "text": [
      "              precision    recall  f1-score   support\n",
      "\n",
      "     Maligno       0.92      0.95      0.93        80\n",
      "     Benigno       0.97      0.95      0.96       148\n",
      "\n",
      "    accuracy                           0.95       228\n",
      "   macro avg       0.94      0.95      0.95       228\n",
      "weighted avg       0.95      0.95      0.95       228\n",
      "\n"
     ]
    },
    {
     "data": {
      "image/png": "[encoded data removed]",
      "text/plain": [
       "<Figure size 864x432 with 2 Axes>"
      ]
     },
     "metadata": {
      "needs_background": "light"
     },
     "output_type": "display_data"
    }
   ],
   "source": [
    "from sklearn.decomposition import TruncatedSVD as sklearnSVD\n",
    "\n",
    "#normalizando os dados\n",
    "standard_scaler = StandardScaler()\n",
    "X_rescaled  = standard_scaler.fit_transform(X)\n",
    "\n",
    "svd = sklearnSVD(n_components=7)\n",
    "X_svd = svd.fit_transform(X_rescaled)\n",
    "\n",
    "X_train_svd, X_test_svd, y_train_svd, y_test_svd = train_test_split(X_svd, y, test_size=0.4, random_state=random_state)\n",
    "\n",
    "#Aplicar o novo X no modelo já treinado\n",
    "model = classifier.fit(X_train_svd, y_train_svd)\n",
    "y_pred_svd = model.predict(X_test_svd) # avaliando o melhor estimador\n",
    "\n",
    "report = classification_report(y_test_svd, y_pred_svd, target_names=['Maligno', 'Benigno'], output_dict=True)\n",
    "results.append(('SVD', report))\n",
    "print(classification_report(y_test_svd, y_pred_svd, target_names=['Maligno', 'Benigno']))\n",
    "plot_confusion_matrix(classifier, X_test_svd, y_test_svd, cmap=\"Blues\", display_labels=['Maligno', 'Benigno'])\n",
    "plt.show()"
   ]
  },
  {
   "cell_type": "markdown",
   "metadata": {},
   "source": [
    "### NMF - Non-negative Matrix Factorization"
   ]
  },
  {
   "cell_type": "code",
   "execution_count": 23,
   "metadata": {},
   "outputs": [
    {
     "name": "stdout",
     "output_type": "stream",
     "text": [
      "              precision    recall  f1-score   support\n",
      "\n",
      "     Maligno       0.97      0.96      0.97        80\n",
      "     Benigno       0.98      0.99      0.98       148\n",
      "\n",
      "    accuracy                           0.98       228\n",
      "   macro avg       0.98      0.97      0.98       228\n",
      "weighted avg       0.98      0.98      0.98       228\n",
      "\n"
     ]
    },
    {
     "data": {
      "image/png": "[encoded data removed]",
      "text/plain": [
       "<Figure size 864x432 with 2 Axes>"
      ]
     },
     "metadata": {
      "needs_background": "light"
     },
     "output_type": "display_data"
    }
   ],
   "source": [
    "from sklearn.decomposition import NMF as sklearnNMF\n",
    "\n",
    "nmf = sklearnNMF(n_components=10)\n",
    "\n",
    "#escalando dados\n",
    "minmax_scaler = MinMaxScaler()\n",
    "X_rescaled  = minmax_scaler.fit_transform(X)\n",
    "X_train_nmf, X_test_nmf, y_train_nmf, y_test_nmf = train_test_split(X_rescaled, y, test_size=0.4, random_state=random_state)\n",
    "\n",
    "#Aplicar o novo X no modelo já treinado\n",
    "model = classifier.fit(X_train_nmf, y_train_nmf)\n",
    "y_pred_nmf = model.predict(X_test_nmf) # avaliando o melhor estimador\n",
    "\n",
    "print(classification_report(y_test_nmf, y_pred_nmf, target_names=['Maligno', 'Benigno']))\n",
    "report = classification_report(y_test_nmf, y_pred_nmf, target_names=['Maligno', 'Benigno'], output_dict=True)\n",
    "results.append(('NMF', report))\n",
    "plot_confusion_matrix(classifier, X_test_nmf, y_test_nmf, cmap=\"Blues\", display_labels=['Maligno', 'Benigno'])\n",
    "plt.show()"
   ]
  },
  {
   "cell_type": "markdown",
   "metadata": {},
   "source": [
    "### Autoencoder"
   ]
  },
  {
   "cell_type": "code",
   "execution_count": null,
   "metadata": {},
   "outputs": [
    {
     "name": "stdout",
     "output_type": "stream",
     "text": [
      "Epoch 1/50\n",
      "3/3 [==============================] - 1s 222ms/step - loss: 1.2777 - val_loss: 1.2016\n",
      "Epoch 2/50\n",
      "3/3 [==============================] - 0s 19ms/step - loss: 1.2915 - val_loss: 1.2016\n",
      "Epoch 3/50\n",
      "3/3 [==============================] - 0s 19ms/step - loss: 1.2906 - val_loss: 1.2016\n",
      "Epoch 4/50\n",
      "3/3 [==============================] - 0s 18ms/step - loss: 1.2109 - val_loss: 1.2016\n",
      "Epoch 5/50\n",
      "3/3 [==============================] - 0s 20ms/step - loss: 1.2383 - val_loss: 1.2016\n",
      "Epoch 6/50\n",
      "3/3 [==============================] - 0s 18ms/step - loss: 1.2871 - val_loss: 1.2016\n",
      "Epoch 7/50\n",
      "3/3 [==============================] - 0s 20ms/step - loss: 1.2663 - val_loss: 1.2015\n",
      "Epoch 8/50\n",
      "3/3 [==============================] - 0s 20ms/step - loss: 1.2493 - val_loss: 1.2015\n",
      "Epoch 9/50\n",
      "3/3 [==============================] - 0s 20ms/step - loss: 1.2606 - val_loss: 1.2015\n",
      "Epoch 10/50\n",
      "3/3 [==============================] - 0s 10ms/step - loss: 1.2585 - val_loss: 1.2015\n",
      "Epoch 11/50\n",
      "3/3 [==============================] - 0s 20ms/step - loss: 1.2931 - val_loss: 1.2015\n",
      "Epoch 12/50\n",
      "3/3 [==============================] - 0s 19ms/step - loss: 1.2424 - val_loss: 1.2015\n",
      "Epoch 13/50\n",
      "3/3 [==============================] - 0s 21ms/step - loss: 1.2715 - val_loss: 1.2015\n",
      "Epoch 14/50\n",
      "3/3 [==============================] - 0s 18ms/step - loss: 1.2770 - val_loss: 1.2015\n",
      "Epoch 15/50\n",
      "3/3 [==============================] - 0s 20ms/step - loss: 1.2147 - val_loss: 1.2015\n",
      "Epoch 16/50\n",
      "3/3 [==============================] - 0s 22ms/step - loss: 1.2507 - val_loss: 1.2015\n",
      "Epoch 17/50\n",
      "1/3 [=========>....................] - ETA: 0s - loss: 1.1778"
     ]
    }
   ],
   "source": [
    "## Import do keras\n",
    "from keras.layers import Input, Dense\n",
    "from keras.models import Model, Sequential\n",
    "from keras import regularizers\n",
    "\n",
    "#normalizando e preparando os dados\n",
    "standard_scaler = StandardScaler()\n",
    "X_rescaled  = standard_scaler.fit_transform(X)\n",
    "\n",
    "X_train_ae, X_test_ae, y_train_ae, y_test_ae = train_test_split(X_rescaled, y, test_size=0.4, random_state=random_state)\n",
    "\n",
    "\n",
    "# seguindo a recomendação, testando o modelo com vários parametros similar ao gridsearv do sklearn avaliando a melhor confirugação\n",
    "L1_val = [1e-8, 1e-7, 1e-6]\n",
    "L2_val = [1e-8, 1e-7, 1e-6]\n",
    "\n",
    "#numero de dimensoes que desejamos reduzir\n",
    "encoding_dim = 10\n",
    "\n",
    "## Valores de erro\n",
    "Grid_Val = []\n",
    "\n",
    "shape_in = X_train_ae.shape[1]\n",
    "\n",
    "## Loop nos regularizadores\n",
    "for L1 in L1_val:\n",
    "    for L2 in L2_val:\n",
    "        input_df = Input(shape=(shape_in,))\n",
    "        encoded = Dense(encoding_dim, activation='relu', kernel_regularizer=regularizers.l1_l2(l1=L1, l2=L2))(input_df)\n",
    "        decoded = Dense(shape_in, activation='sigmoid', kernel_regularizer=regularizers.l1_l2(l1=L1, l2=L2))(encoded)\n",
    "\n",
    "        # encoder\n",
    "        autoencoder = Model(input_df, decoded)\n",
    "\n",
    "        # intermediate result\n",
    "        encoder = Model(input_df, encoded)\n",
    "\n",
    "        autoencoder.compile(optimizer='adadelta', loss='mean_squared_error')\n",
    "\n",
    "        autoencoder_history = autoencoder.fit(X_train_ae, X_train_ae,\n",
    "                                             epochs=50,\n",
    "                                             batch_size=128,\n",
    "                                             shuffle=True,\n",
    "                                             validation_data=(X_test_ae, X_test_ae))\n",
    "\n",
    "        ## Adiciona o erro de teste na lista\n",
    "        Grid_Val.append([L1,L2,autoencoder_history.history[\"val_loss\"][-1]])\n",
    "        \n",
    "        ## Print do andamento\n",
    "        print(\"Complete L1:\", L1, \" L2:\", L2)\n",
    "\n",
    "## Transforma em array\n",
    "Grid_Val = np.array(Grid_Val)"
   ]
  },
  {
   "cell_type": "markdown",
   "metadata": {},
   "source": [
    "### Verificando a melhor combinação\n",
    "Após rodar a rede com vários parametros, construímos uma nova rede com os melhores selecionados"
   ]
  },
  {
   "cell_type": "code",
   "execution_count": null,
   "metadata": {},
   "outputs": [],
   "source": [
    "## Selecao do melhor modelo\n",
    "print(Grid_Val[Grid_Val[:,2] == Grid_Val[:,2].min(),:])\n",
    "L1 = Grid_Val[Grid_Val[:,2] == Grid_Val[:,2].min(),0][0]\n",
    "L2 = Grid_Val[Grid_Val[:,2] == Grid_Val[:,2].min(),1][0]\n",
    "print(\"L1:\",L1,\"L2:\",L2)"
   ]
  },
  {
   "cell_type": "code",
   "execution_count": null,
   "metadata": {
    "scrolled": false
   },
   "outputs": [],
   "source": [
    "#Construindo \n",
    "input_df = Input(shape=(shape_in,))\n",
    "encoded = Dense(encoding_dim, activation='relu', kernel_regularizer=regularizers.l1_l2(l1=L1, l2=L2))(input_df)\n",
    "decoded = Dense(shape_in, activation='sigmoid', kernel_regularizer=regularizers.l1_l2(l1=L1, l2=L2))(encoded)\n",
    "\n",
    "# encoder\n",
    "autoencoder = Model(input_df, decoded)\n",
    "\n",
    "# intermediate result\n",
    "encoder = Model(input_df, encoded)\n",
    "\n",
    "autoencoder.compile(optimizer='adadelta', loss='binary_crossentropy', metrics=['accuracy'])\n",
    "\n",
    "autoencoder_history = autoencoder.fit(X_train_ae, X_train_ae,\n",
    "                                     epochs=50,\n",
    "                                     batch_size=128,\n",
    "                                     shuffle=True,\n",
    "                                     validation_data=(X_test_ae, X_test_ae))\n",
    "\n",
    "\n",
    "#Montando os dados novos para usarmos no modelo\n",
    "encoded_X_train = encoder.predict(X_train_ae)\n",
    "encoded_X_test = encoder.predict(X_test_ae)"
   ]
  },
  {
   "cell_type": "markdown",
   "metadata": {},
   "source": [
    "### Rodando o modelo com o novo cenário"
   ]
  },
  {
   "cell_type": "code",
   "execution_count": null,
   "metadata": {},
   "outputs": [],
   "source": [
    "\n",
    "#Aplicar o novo X no modelo já treinado\n",
    "model = classifier.fit(encoded_X_train, y_train_ae)\n",
    "y_pred_ae = model.predict(encoded_X_test) # avaliando o melhor estimador\n",
    "\n",
    "print(classification_report(y_test_ae, y_pred_ae, target_names=['Maligno', 'Benigno']))\n",
    "report = classification_report(y_test_ae, y_pred_ae, target_names=['Maligno', 'Benigno'], output_dict=True)\n",
    "results.append(('AE', report))\n",
    "plot_confusion_matrix(classifier, encoded_X_test, y_test_ae, cmap=\"Blues\", display_labels=['Maligno', 'Benigno'])\n",
    "plt.show()"
   ]
  },
  {
   "cell_type": "markdown",
   "metadata": {},
   "source": [
    "### Comparando os resultados\n",
    "O gráfico abaixo compara os resultados de acurácia obtidos"
   ]
  },
  {
   "cell_type": "code",
   "execution_count": null,
   "metadata": {},
   "outputs": [],
   "source": [
    "import numpy as np\n",
    "import matplotlib.pyplot as plt\n",
    "\n",
    "#report\n",
    "#macro_precision =  results[0]['macro avg']['precision'] \n",
    "#macro_recall = report['macro avg']['recall']    \n",
    "#macro_f1 = report['macro avg']['f1-score']\n",
    "#accuracy = report['accuracy']\n",
    "\n",
    "import numpy as np\n",
    "import matplotlib.pyplot as plt\n",
    "\n",
    "barWidth = 0.20\n",
    "\n",
    "# data to plot\n",
    "acc = [results[0][1]['accuracy'], results[1][1]['accuracy'], results[2][1]['accuracy'], results[3][1]['accuracy'], 0.7]\n",
    "#f1 = [85, 62, 54, 20, 40]\n",
    "#precision = [85, 62, 54, 20, 30]\n",
    "#recall = [85, 62, 54, 20, 30]\n",
    "\n",
    "\n",
    "# Set position of bar on X axis\n",
    "r1 = np.arange(len(acc))\n",
    "#r2 = [x + barWidth for x in r1]\n",
    "#r3 = [x + barWidth for x in r2]\n",
    "#r4 = [x + barWidth for x in r3]\n",
    "\n",
    "fig = plt.figure(figsize=(15,10))\n",
    "plt.title('Comparativo dos resultados', fontsize=16, fontweight='bold')\n",
    "\n",
    "#make the plot\n",
    "plt.bar(r1, acc, color='#7972fc', width=barWidth, edgecolor='white', label='Accuracy')\n",
    "#plt.bar(r2, f1, color='#fc3a51', width=barWidth, edgecolor='white', label='F1')\n",
    "#plt.bar(r3, precision, color='y', width=barWidth, edgecolor='white', label='Precision')\n",
    "#plt.bar(r4, recall, color='#4aba50', width=barWidth, edgecolor='white', label='Recall')\n",
    "\n",
    "# Add xticks on the middle of the group bars\n",
    "plt.xlabel('Algoritmos', fontweight='bold')\n",
    "plt.xticks([r  for r in range(len(acc))], ['Nenhum', 'PCA', 'SVD', 'NMF', 'AE'])\n",
    "\n",
    "for label_x,label_y in zip(r1,acc):\n",
    "    label = \"{:.2f}\".format(label_y)\n",
    "    plt.annotate(label, \n",
    "                 (label_x,label_y), \n",
    "                 textcoords=\"offset points\", \n",
    "                 xytext=(0,10), \n",
    "                 ha='center')\n",
    "plt.legend()\n",
    "plt.show()"
   ]
  },
  {
   "cell_type": "markdown",
   "metadata": {},
   "source": [
    "### Conclusão\n",
    "Com base nas observações o melhor resultado de acurácia (96%) foi com aplicação do PCA, ou seja, com a redução de dimensões é possível reduzirmos o consumo computacional e aumentar o ganho dos algoritmos.\n",
    "\n",
    "\n",
    "### Referências\n",
    "Sites da Internet  \n",
    "https://blog.paperspace.com/dimension-reduction-with-autoencoders/  \n",
    "https://machinelearningmastery.com/binary-classification-tutorial-with-the-keras-deep-learning-library/  \n",
    "\n",
    "\n",
    "Artigos do Medium  \n",
    "https://python.plainenglish.io/non-negative-matrix-factorization-for-dimensionality-reduction-predictive-hacks-1ed9e91154c  \n",
    "https://medium.com/@rinu.gour123/dimensionality-reduction-in-machine-learning-dad03dd46a9e  \n",
    "https://medium.com/analytics-vidhya/a-complete-guide-on-dimensionality-reduction-62d9698013d2  \n",
    "https://towardsdatascience.com/tagged/dimensionality-reduction  \n",
    "\n",
    "Livros  \n",
    "Python Data Science Essentials - Third Edition now with O’Reilly online learning.  \n",
    "Python Data Science Handbook by Jake VanderPlas; Jupyter notebooks are available on [GitHub](https://github.com/jakevdp/PythonDataScienceHandbook)  "
   ]
  },
  {
   "cell_type": "code",
   "execution_count": null,
   "metadata": {},
   "outputs": [],
   "source": []
  }
 ],
 "metadata": {
  "kernelspec": {
   "display_name": "Python 3",
   "language": "python",
   "name": "python3"
  },
  "language_info": {
   "codemirror_mode": {
    "name": "ipython",
    "version": 3
   },
   "file_extension": ".py",
   "mimetype": "text/x-python",
   "name": "python",
   "nbconvert_exporter": "python",
   "pygments_lexer": "ipython3",
   "version": "3.7.4"
  },
  "metadata": {
   "interpreter": {
    "hash": "43c9e04d73dc828ac359c52be8edd92be05bfdb600886e1613060c70e57c8cfd"
   }
  }
 },
 "nbformat": 4,
 "nbformat_minor": 4
}
